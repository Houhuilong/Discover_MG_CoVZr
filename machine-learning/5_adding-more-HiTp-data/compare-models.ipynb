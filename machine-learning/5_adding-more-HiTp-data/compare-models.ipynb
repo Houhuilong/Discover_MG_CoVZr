{
 "cells": [
  {
   "cell_type": "markdown",
   "metadata": {},
   "source": [
    "# Compare Different Machine Learning Models\n",
    "This notebook compares the ability of three different machine learning models to predict the glass forming ability of metallic glasses via sputtering:\n",
    "\n",
    "1. A model using only melt-spinning data from the literature\n",
    "1. A model using melt-spinning and sputtering data from literature\n",
    "1. A model using using all literature data, and the HiTp data for Co-V-Zr"
   ]
  },
  {
   "cell_type": "code",
   "execution_count": 1,
   "metadata": {
    "collapsed": true
   },
   "outputs": [],
   "source": [
    "%matplotlib inline\n",
    "from matplotlib import pyplot as plt\n",
    "from matplotlib import cm\n",
    "from cycler import cycler\n",
    "from sklearn import metrics\n",
    "import numpy as np\n",
    "import pandas as pd\n",
    "import json\n",
    "import os"
   ]
  },
  {
   "cell_type": "markdown",
   "metadata": {},
   "source": [
    "Variables to change"
   ]
  },
  {
   "cell_type": "code",
   "execution_count": 2,
   "metadata": {},
   "outputs": [],
   "source": [
    "fig_width = 89 / 25.4\n",
    "fig_height = fig_width\n",
    "fig_dpi = 320\n",
    "fig_name = os.path.join('..','..','figures','FigureSx_ROC-comparison-all-HiTp.png')\n",
    "thr = 0.95"
   ]
  },
  {
   "cell_type": "code",
   "execution_count": 3,
   "metadata": {
    "collapsed": true
   },
   "outputs": [],
   "source": [
    "models = [\n",
    "    ('Only Meltspin', 'cv_Only_Meltspin.json'),\n",
    "    ('Generation 1', 'cv_LB.json'),\n",
    "    ('Generation 2', 'cv_LB+CoVZr.json'),\n",
    "    ('Generation 3', 'cv_LB+CoVZr+CoTiZr+CoFeZr+FeTiNb.json'),\n",
    "]"
   ]
  },
  {
   "cell_type": "markdown",
   "metadata": {},
   "source": [
    "## Load in the Data\n",
    "The data from each test is stored in JSON files. These are in Magpie format"
   ]
  },
  {
   "cell_type": "code",
   "execution_count": 4,
   "metadata": {
    "collapsed": true
   },
   "outputs": [],
   "source": [
    "def load_data(filename):\n",
    "    # Load in data as JSON, convert to dataframe\n",
    "    temp_data = json.load(open(filename))\n",
    "    data = pd.DataFrame(temp_data['entries'])\n",
    "    print(temp_data['class-names'])\n",
    "    \n",
    "    # Get the measured and predicted classes probabilities\n",
    "    data['predicted'] = [x['predicted'] for x in data['class']]\n",
    "    data['measured'] = [x['measured'] for x in data['class'] ]\n",
    "    data['prob_AM'], data['prob_CR'] = zip(*[x['probabilities'] for x in data['class']])\n",
    "    \n",
    "    # Drop unneeded columns and return result\n",
    "    return data.drop(['attributes','class','properties'], axis='columns')"
   ]
  },
  {
   "cell_type": "code",
   "execution_count": 5,
   "metadata": {},
   "outputs": [
    {
     "name": "stdout",
     "output_type": "stream",
     "text": [
      "['AM', 'CR']\n",
      "['AM', 'CR']\n",
      "['AM', 'CR']\n",
      "['AM', 'CR']\n"
     ]
    }
   ],
   "source": [
    "data = [(x,load_data(os.path.join('results',y))) for x,y in models]"
   ]
  },
  {
   "cell_type": "markdown",
   "metadata": {},
   "source": [
    "Compute performance scores"
   ]
  },
  {
   "cell_type": "code",
   "execution_count": 6,
   "metadata": {},
   "outputs": [
    {
     "data": {
      "text/plain": [
       "<matplotlib.axes._subplots.AxesSubplot at 0x7f836cfa50b8>"
      ]
     },
     "execution_count": 6,
     "metadata": {},
     "output_type": "execute_result"
    },
    {
     "data": {
      "image/png": "[encoded data removed]",
      "text/plain": [
       "<matplotlib.figure.Figure at 0x7f836d0289b0>"
      ]
     },
     "metadata": {},
     "output_type": "display_data"
    }
   ],
   "source": [
    "data[-2][1]['prob_AM'].hist(bins=30)"
   ]
  },
  {
   "cell_type": "code",
   "execution_count": 7,
   "metadata": {
    "collapsed": true
   },
   "outputs": [],
   "source": [
    "def compute_scores(data):\n",
    "    return dict(\n",
    "        auc=metrics.roc_auc_score(data['measured'], data['prob_CR']), \n",
    "        logloss=metrics.log_loss(data['measured'], data['prob_CR']),\n",
    "        accuracy=metrics.accuracy_score(data['measured'], data['predicted']),\n",
    "        sensitivity=metrics.recall_score(data['measured'], data['prob_AM'] < thr, pos_label=0)\n",
    "    )"
   ]
  },
  {
   "cell_type": "code",
   "execution_count": 8,
   "metadata": {},
   "outputs": [],
   "source": [
    "scores = [(x,compute_scores(y)) for x,y in data]"
   ]
  },
  {
   "cell_type": "code",
   "execution_count": 9,
   "metadata": {},
   "outputs": [
    {
     "data": {
      "text/html": [
       "<div>\n",
       "<table border=\"1\" class=\"dataframe\">\n",
       "  <thead>\n",
       "    <tr style=\"text-align: right;\">\n",
       "      <th></th>\n",
       "      <th>Generation 1</th>\n",
       "      <th>Generation 2</th>\n",
       "      <th>Generation 3</th>\n",
       "      <th>Only Meltspin</th>\n",
       "    </tr>\n",
       "  </thead>\n",
       "  <tbody>\n",
       "    <tr>\n",
       "      <th>accuracy</th>\n",
       "      <td>0.603513</td>\n",
       "      <td>0.692597</td>\n",
       "      <td>0.701380</td>\n",
       "      <td>0.590966</td>\n",
       "    </tr>\n",
       "    <tr>\n",
       "      <th>auc</th>\n",
       "      <td>0.661393</td>\n",
       "      <td>0.800006</td>\n",
       "      <td>0.800878</td>\n",
       "      <td>0.623300</td>\n",
       "    </tr>\n",
       "    <tr>\n",
       "      <th>logloss</th>\n",
       "      <td>0.974012</td>\n",
       "      <td>0.636022</td>\n",
       "      <td>0.555607</td>\n",
       "      <td>4.581077</td>\n",
       "    </tr>\n",
       "    <tr>\n",
       "      <th>sensitivity</th>\n",
       "      <td>0.414352</td>\n",
       "      <td>0.236111</td>\n",
       "      <td>0.108796</td>\n",
       "      <td>0.745370</td>\n",
       "    </tr>\n",
       "  </tbody>\n",
       "</table>\n",
       "</div>"
      ],
      "text/plain": [
       "             Generation 1  Generation 2  Generation 3  Only Meltspin\n",
       "accuracy         0.603513      0.692597      0.701380       0.590966\n",
       "auc              0.661393      0.800006      0.800878       0.623300\n",
       "logloss          0.974012      0.636022      0.555607       4.581077\n",
       "sensitivity      0.414352      0.236111      0.108796       0.745370"
      ]
     },
     "execution_count": 9,
     "metadata": {},
     "output_type": "execute_result"
    }
   ],
   "source": [
    "pd.DataFrame(dict(scores))"
   ]
  },
  {
   "cell_type": "code",
   "execution_count": 10,
   "metadata": {},
   "outputs": [
    {
     "data": {
      "image/png": "[encoded data removed]",
      "text/plain": [
       "<matplotlib.figure.Figure at 0x7f836d2ea198>"
      ]
     },
     "metadata": {},
     "output_type": "display_data"
    }
   ],
   "source": [
    "fig, ax = plt.subplots()\n",
    "\n",
    "ax.bar(range(len(scores)), [x[1]['auc'] for x in scores])\n",
    "\n",
    "ax.set_xticks(range(len(scores)))\n",
    "ax.set_xticklabels([x[0] for x in scores], fontsize=10, rotation=45)\n",
    "ax.set_ylabel('Area Under ROC Curve')\n",
    "\n",
    "fig.set_size_inches(3, 2)"
   ]
  },
  {
   "cell_type": "markdown",
   "metadata": {},
   "source": [
    "## Plot the ROC Curves"
   ]
  },
  {
   "cell_type": "code",
   "execution_count": 11,
   "metadata": {
    "collapsed": true
   },
   "outputs": [],
   "source": [
    "def compute_roc(data):\n",
    "    return metrics.roc_curve(data['measured'], data['prob_AM'], pos_label=0)[:2]"
   ]
  },
  {
   "cell_type": "code",
   "execution_count": 12,
   "metadata": {
    "collapsed": true
   },
   "outputs": [],
   "source": [
    "roc_data = [(x,compute_roc(y)) for x,y in data]"
   ]
  },
  {
   "cell_type": "code",
   "execution_count": 13,
   "metadata": {
    "collapsed": true
   },
   "outputs": [],
   "source": [
    "for x,roc in roc_data:\n",
    "    pd.DataFrame({'FPR':roc[0], 'TPR':roc[1]}).to_csv('results/%s.csv'%x.replace(' ',''), index=False)"
   ]
  },
  {
   "cell_type": "code",
   "execution_count": 14,
   "metadata": {},
   "outputs": [
    {
     "data": {
      "image/png": "[encoded data removed]",
      "text/plain": [
       "<matplotlib.figure.Figure at 0x7f836ae7a898>"
      ]
     },
     "metadata": {},
     "output_type": "display_data"
    }
   ],
   "source": [
    "fig, ax = plt.subplots()\n",
    "\n",
    "# Set the color loop\n",
    "cmap = cm.get_cmap('Reds')\n",
    "ax.set_prop_cycle(cycler('color', [cmap(x) for x in np.linspace(0.3,1,len(roc_data))]) +\n",
    "                                  cycler('dashes', [(x,1) for x in np.linspace(1,10,len(roc_data))]))\n",
    "\n",
    "for name,roc in roc_data:\n",
    "    ax.plot(roc[0], roc[1], label=name)\n",
    "\n",
    "ax.plot([0,1],[0,1], 'k-', dashes=(1000,1))\n",
    "\n",
    "ax.set_xlabel('False Positive Rate')\n",
    "ax.set_ylabel('True Positive Rate')\n",
    "ax.set_xlim([-0.01,1.01])\n",
    "ax.set_ylim([-0.01,1.01])\n",
    "\n",
    "ax.legend()\n",
    "\n",
    "fig.set_size_inches(fig_width, fig_height)\n",
    "fig.tight_layout()\n",
    "\n",
    "fig.savefig(fig_name)"
   ]
  },
  {
   "cell_type": "code",
   "execution_count": 15,
   "metadata": {
    "collapsed": true
   },
   "outputs": [],
   "source": []
  },
  {
   "cell_type": "code",
   "execution_count": 15,
   "metadata": {
    "collapsed": true
   },
   "outputs": [],
   "source": []
  },
  {
   "cell_type": "code",
   "execution_count": 15,
   "metadata": {
    "collapsed": true
   },
   "outputs": [],
   "source": []
  }
 ],
 "metadata": {
  "kernelspec": {
   "display_name": "Python 3",
   "language": "python",
   "name": "python3"
  },
  "language_info": {
   "codemirror_mode": {
    "name": "ipython",
    "version": 3
   },
   "file_extension": ".py",
   "mimetype": "text/x-python",
   "name": "python",
   "nbconvert_exporter": "python",
   "pygments_lexer": "ipython3",
   "version": "3.6.0"
  }
 },
 "nbformat": 4,
 "nbformat_minor": 2
}
