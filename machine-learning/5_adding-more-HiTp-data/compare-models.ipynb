{
 "cells": [
  {
   "cell_type": "markdown",
   "metadata": {},
   "source": [
    "# Compare Different Machine Learning Models\n",
    "This notebook compares the ability of three different machine learning models to predict the glass forming ability of metallic glasses via sputtering:\n",
    "\n",
    "1. A model using only melt-spinning data from the literature\n",
    "1. A model using melt-spinning and sputtering data from literature\n",
    "1. A model using using all literature data, and the HiTp data for Co-V-Zr"
   ]
  },
  {
   "cell_type": "code",
   "execution_count": 39,
   "metadata": {
    "collapsed": true
   },
   "outputs": [],
   "source": [
    "%matplotlib inline\n",
    "from matplotlib import pyplot as plt\n",
    "from matplotlib import cm\n",
    "from cycler import cycler\n",
    "from sklearn import metrics\n",
    "import numpy as np\n",
    "import pandas as pd\n",
    "import json\n",
    "import os"
   ]
  },
  {
   "cell_type": "markdown",
   "metadata": {},
   "source": [
    "Variables to change"
   ]
  },
  {
   "cell_type": "code",
   "execution_count": 2,
   "metadata": {
    "collapsed": true
   },
   "outputs": [],
   "source": [
    "fig_width = 89 / 25.4\n",
    "fig_height = fig_width\n",
    "fig_dpi = 320\n",
    "fig_name = os.path.join('..','..','figures','Figure5b_ROC-comparison.png')"
   ]
  },
  {
   "cell_type": "code",
   "execution_count": 13,
   "metadata": {},
   "outputs": [],
   "source": [
    "models = [\n",
    "    ('Only Meltspin', 'cv_Only_Meltspin.json'),\n",
    "    ('With Sputtering', 'cv_LB.json'),\n",
    "    ('Iteration 1', 'cv_LB+CoVZr.json'),\n",
    "    ('Iteration 2', 'cv_LB+CoVZr+FeTiNb.json'),\n",
    "    ('Iteration 3', 'cv_LB+CoVZr+FeTiNb+CoFeZr.json'),\n",
    "    ('Iteration 4', 'cv_LB+CoVZr+FeTiNb+CoFeZr+CoTiZr.json'),\n",
    "]"
   ]
  },
  {
   "cell_type": "markdown",
   "metadata": {},
   "source": [
    "## Load in the Data\n",
    "The data from each test is stored in JSON files. These are in Magpie format"
   ]
  },
  {
   "cell_type": "code",
   "execution_count": 14,
   "metadata": {
    "collapsed": true
   },
   "outputs": [],
   "source": [
    "def load_data(filename):\n",
    "    # Load in data as JSON, convert to dataframe\n",
    "    temp_data = json.load(open(filename))\n",
    "    data = pd.DataFrame(temp_data['entries'])\n",
    "    \n",
    "    # Get the measured and predicted classes probabilities\n",
    "    data['measured'] = [x['measured'] for x in data['class'] ]\n",
    "    data['prob_AM'], data['prob_CR'] = zip(*[x['probabilities'] for x in data['class']])\n",
    "    \n",
    "    # Drop unneeded columns and return result\n",
    "    return data.drop(['attributes','class','properties'], axis='columns')"
   ]
  },
  {
   "cell_type": "code",
   "execution_count": 16,
   "metadata": {},
   "outputs": [],
   "source": [
    "data = [(x,load_data(os.path.join('results',y))) for x,y in models]"
   ]
  },
  {
   "cell_type": "markdown",
   "metadata": {},
   "source": [
    "Compute performance scores"
   ]
  },
  {
   "cell_type": "code",
   "execution_count": 17,
   "metadata": {
    "collapsed": true
   },
   "outputs": [],
   "source": [
    "def compute_scores(data):\n",
    "    return dict(\n",
    "        auc=metrics.roc_auc_score(data['measured'], data['prob_CR']), \n",
    "        logloss=metrics.log_loss(data['measured'], data['prob_CR'])\n",
    "    )"
   ]
  },
  {
   "cell_type": "code",
   "execution_count": 87,
   "metadata": {},
   "outputs": [],
   "source": [
    "scores = [(x,compute_scores(y)) for x,y in data]"
   ]
  },
  {
   "cell_type": "code",
   "execution_count": 85,
   "metadata": {},
   "outputs": [
    {
     "data": {
      "text/html": [
       "<div>\n",
       "<style>\n",
       "    .dataframe thead tr:only-child th {\n",
       "        text-align: right;\n",
       "    }\n",
       "\n",
       "    .dataframe thead th {\n",
       "        text-align: left;\n",
       "    }\n",
       "\n",
       "    .dataframe tbody tr th {\n",
       "        vertical-align: top;\n",
       "    }\n",
       "</style>\n",
       "<table border=\"1\" class=\"dataframe\">\n",
       "  <thead>\n",
       "    <tr style=\"text-align: right;\">\n",
       "      <th></th>\n",
       "      <th>Iteration 1</th>\n",
       "      <th>Iteration 2</th>\n",
       "      <th>Iteration 3</th>\n",
       "      <th>Iteration 4</th>\n",
       "      <th>Only Meltspin</th>\n",
       "      <th>With Sputtering</th>\n",
       "    </tr>\n",
       "  </thead>\n",
       "  <tbody>\n",
       "    <tr>\n",
       "      <th>auc</th>\n",
       "      <td>0.833545</td>\n",
       "      <td>0.846138</td>\n",
       "      <td>0.803349</td>\n",
       "      <td>0.793243</td>\n",
       "      <td>0.671643</td>\n",
       "      <td>0.735781</td>\n",
       "    </tr>\n",
       "    <tr>\n",
       "      <th>logloss</th>\n",
       "      <td>0.840703</td>\n",
       "      <td>0.721362</td>\n",
       "      <td>0.593416</td>\n",
       "      <td>0.614480</td>\n",
       "      <td>11.672092</td>\n",
       "      <td>1.895626</td>\n",
       "    </tr>\n",
       "  </tbody>\n",
       "</table>\n",
       "</div>"
      ],
      "text/plain": [
       "         Iteration 1  Iteration 2  Iteration 3  Iteration 4  Only Meltspin  \\\n",
       "auc         0.833545     0.846138     0.803349     0.793243       0.671643   \n",
       "logloss     0.840703     0.721362     0.593416     0.614480      11.672092   \n",
       "\n",
       "         With Sputtering  \n",
       "auc             0.735781  \n",
       "logloss         1.895626  "
      ]
     },
     "execution_count": 85,
     "metadata": {},
     "output_type": "execute_result"
    }
   ],
   "source": [
    "pd.DataFrame(dict(scores))"
   ]
  },
  {
   "cell_type": "code",
   "execution_count": 93,
   "metadata": {},
   "outputs": [
    {
     "data": {
      "text/plain": [
       "<Container object of 6 artists>"
      ]
     },
     "execution_count": 93,
     "metadata": {},
     "output_type": "execute_result"
    },
    {
     "data": {
      "image/png": "[encoded data removed]",
      "text/plain": [
       "<matplotlib.figure.Figure at 0x7f6a6d971650>"
      ]
     },
     "metadata": {},
     "output_type": "display_data"
    }
   ],
   "source": [
    "fig, ax = plt.subplots()\n",
    "\n",
    "ax.bar(range(len(scores)), np.log([x[1]['logloss'] for x in scores]))"
   ]
  },
  {
   "cell_type": "markdown",
   "metadata": {},
   "source": [
    "## Plot the ROC Curves"
   ]
  },
  {
   "cell_type": "code",
   "execution_count": 72,
   "metadata": {
    "collapsed": true
   },
   "outputs": [],
   "source": [
    "def compute_roc(data):\n",
    "    return metrics.roc_curve(data['measured'], data['prob_AM'], pos_label=0)[:2]"
   ]
  },
  {
   "cell_type": "code",
   "execution_count": 73,
   "metadata": {},
   "outputs": [],
   "source": [
    "roc_data = [(x,compute_roc(y)) for x,y in data]"
   ]
  },
  {
   "cell_type": "code",
   "execution_count": 86,
   "metadata": {},
   "outputs": [],
   "source": [
    "for x,roc in roc_data:\n",
    "    pd.DataFrame({'FPR':roc[0], 'TPR':roc[1]}).to_csv('results/%s.csv'%x.replace(' ',''), index=False)"
   ]
  },
  {
   "cell_type": "code",
   "execution_count": 74,
   "metadata": {},
   "outputs": [
    {
     "data": {
      "image/png": "[encoded data removed]",
      "text/plain": [
       "<matplotlib.figure.Figure at 0x7f6a6da9d8d0>"
      ]
     },
     "metadata": {},
     "output_type": "display_data"
    }
   ],
   "source": [
    "fig, ax = plt.subplots()\n",
    "\n",
    "# Set the color loop\n",
    "cmap = cm.get_cmap('Reds')\n",
    "ax.set_prop_cycle(cycler('color', [cmap(x) for x in np.linspace(0.3,1,len(roc_data))]) +\n",
    "                                  cycler('dashes', [(x,1) for x in np.linspace(1,10,len(roc_data))]))\n",
    "\n",
    "for name,roc in roc_data:\n",
    "    ax.plot(roc[0], roc[1], label=name)\n",
    "\n",
    "ax.plot([0,1],[0,1], 'k-', dashes=(1000,1))\n",
    "\n",
    "ax.set_xlabel('False Positive Rate')\n",
    "ax.set_ylabel('True Positive Rate')\n",
    "ax.set_xlim([-0.01,1.01])\n",
    "ax.set_ylim([-0.01,1.01])\n",
    "\n",
    "ax.legend()\n",
    "\n",
    "fig.set_size_inches(fig_width, fig_height)\n",
    "fig.tight_layout()\n",
    "\n",
    "fig.savefig(fig_name)"
   ]
  },
  {
   "cell_type": "code",
   "execution_count": null,
   "metadata": {
    "collapsed": true
   },
   "outputs": [],
   "source": []
  },
  {
   "cell_type": "code",
   "execution_count": null,
   "metadata": {
    "collapsed": true
   },
   "outputs": [],
   "source": []
  }
 ],
 "metadata": {
  "kernelspec": {
   "display_name": "Python 2",
   "language": "python",
   "name": "python2"
  },
  "language_info": {
   "codemirror_mode": {
    "name": "ipython",
    "version": 2
   },
   "file_extension": ".py",
   "mimetype": "text/x-python",
   "name": "python",
   "nbconvert_exporter": "python",
   "pygments_lexer": "ipython2",
   "version": "2.7.13"
  }
 },
 "nbformat": 4,
 "nbformat_minor": 2
}
