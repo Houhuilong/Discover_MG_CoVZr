{
 "cells": [
  {
   "cell_type": "markdown",
   "metadata": {},
   "source": [
    "# Compare Different Machine Learning Models\n",
    "This notebook compares the ability of three different machine learning models to predict the glass forming ability of metallic glasses via sputtering:\n",
    "\n",
    "1. A model using only melt-spinning data from the literature\n",
    "1. A model using melt-spinning and sputtering data from literature\n",
    "1. A model using using all literature data, and the HiTp data for Co-V-Zr"
   ]
  },
  {
   "cell_type": "code",
   "execution_count": 1,
   "metadata": {
    "collapsed": true
   },
   "outputs": [],
   "source": [
    "%matplotlib inline\n",
    "from matplotlib import pyplot as plt\n",
    "from matplotlib import cm\n",
    "from cycler import cycler\n",
    "from sklearn import metrics\n",
    "import numpy as np\n",
    "import pandas as pd\n",
    "import json\n",
    "import os"
   ]
  },
  {
   "cell_type": "markdown",
   "metadata": {},
   "source": [
    "Variables to change"
   ]
  },
  {
   "cell_type": "code",
   "execution_count": 2,
   "metadata": {
    "collapsed": true
   },
   "outputs": [],
   "source": [
    "fig_width = 89 / 25.4\n",
    "fig_height = fig_width\n",
    "fig_dpi = 320\n",
    "fig_name = os.path.join('..','..','figures','Figure5b_ROC-comparison.png')"
   ]
  },
  {
   "cell_type": "code",
   "execution_count": 3,
   "metadata": {
    "collapsed": true
   },
   "outputs": [],
   "source": [
    "models = [\n",
    "    ('Only Meltspin', 'cv_Only_Meltspin.json'),\n",
    "    ('With Sputtering', 'cv_LB.json'),\n",
    "    ('With CoVZr Data', 'cv_LB+CoVZr.json'),\n",
    "]"
   ]
  },
  {
   "cell_type": "markdown",
   "metadata": {},
   "source": [
    "## Load in the Data\n",
    "The data from each test is stored in JSON files. These are in Magpie format"
   ]
  },
  {
   "cell_type": "code",
   "execution_count": 4,
   "metadata": {
    "collapsed": true
   },
   "outputs": [],
   "source": [
    "def load_data(filename):\n",
    "    # Load in data as JSON, convert to dataframe\n",
    "    temp_data = json.load(open(filename))\n",
    "    data = pd.DataFrame(temp_data['entries'])\n",
    "    \n",
    "    # Get the measured and predicted classes probabilities\n",
    "    data['measured'] = [x['measured'] for x in data['class'] ]\n",
    "    data['prob_AM'], data['prob_CR'] = zip(*[x['probabilities'] for x in data['class']])\n",
    "    \n",
    "    # Drop unneeded columns and return result\n",
    "    return data.drop(['attributes','class','properties'], axis='columns')"
   ]
  },
  {
   "cell_type": "code",
   "execution_count": 5,
   "metadata": {
    "collapsed": true
   },
   "outputs": [],
   "source": [
    "data = [(x,load_data(os.path.join('results',y))) for x,y in models]"
   ]
  },
  {
   "cell_type": "markdown",
   "metadata": {},
   "source": [
    "Compute performance scores"
   ]
  },
  {
   "cell_type": "code",
   "execution_count": 6,
   "metadata": {
    "collapsed": true
   },
   "outputs": [],
   "source": [
    "def compute_scores(data):\n",
    "    return dict(\n",
    "        auc=metrics.roc_auc_score(data['measured'], data['prob_CR']), \n",
    "        logloss=metrics.log_loss(data['measured'], data['prob_CR'])\n",
    "    )"
   ]
  },
  {
   "cell_type": "code",
   "execution_count": 7,
   "metadata": {
    "collapsed": true
   },
   "outputs": [],
   "source": [
    "scores = [(x,compute_scores(y)) for x,y in data]"
   ]
  },
  {
   "cell_type": "code",
   "execution_count": 8,
   "metadata": {},
   "outputs": [
    {
     "data": {
      "text/html": [
       "<div>\n",
       "<style>\n",
       "    .dataframe thead tr:only-child th {\n",
       "        text-align: right;\n",
       "    }\n",
       "\n",
       "    .dataframe thead th {\n",
       "        text-align: left;\n",
       "    }\n",
       "\n",
       "    .dataframe tbody tr th {\n",
       "        vertical-align: top;\n",
       "    }\n",
       "</style>\n",
       "<table border=\"1\" class=\"dataframe\">\n",
       "  <thead>\n",
       "    <tr style=\"text-align: right;\">\n",
       "      <th></th>\n",
       "      <th>Only Meltspin</th>\n",
       "      <th>With CoVZr Data</th>\n",
       "      <th>With Sputtering</th>\n",
       "    </tr>\n",
       "  </thead>\n",
       "  <tbody>\n",
       "    <tr>\n",
       "      <th>auc</th>\n",
       "      <td>0.702442</td>\n",
       "      <td>0.721414</td>\n",
       "      <td>0.713043</td>\n",
       "    </tr>\n",
       "    <tr>\n",
       "      <th>logloss</th>\n",
       "      <td>3.153175</td>\n",
       "      <td>0.721702</td>\n",
       "      <td>0.744988</td>\n",
       "    </tr>\n",
       "  </tbody>\n",
       "</table>\n",
       "</div>"
      ],
      "text/plain": [
       "         Only Meltspin  With CoVZr Data  With Sputtering\n",
       "auc           0.702442         0.721414         0.713043\n",
       "logloss       3.153175         0.721702         0.744988"
      ]
     },
     "execution_count": 8,
     "metadata": {},
     "output_type": "execute_result"
    }
   ],
   "source": [
    "pd.DataFrame(dict(scores))"
   ]
  },
  {
   "cell_type": "code",
   "execution_count": 9,
   "metadata": {
    "scrolled": false
   },
   "outputs": [
    {
     "data": {
      "text/plain": [
       "<Container object of 3 artists>"
      ]
     },
     "execution_count": 9,
     "metadata": {},
     "output_type": "execute_result"
    },
    {
     "data": {
      "image/png": "[encoded data removed]",
      "text/plain": [
       "<matplotlib.figure.Figure at 0x7f844b603bd0>"
      ]
     },
     "metadata": {},
     "output_type": "display_data"
    }
   ],
   "source": [
    "fig, ax = plt.subplots()\n",
    "\n",
    "ax.bar(range(len(scores)), [x[1]['auc'] for x in scores])"
   ]
  },
  {
   "cell_type": "markdown",
   "metadata": {},
   "source": [
    "## Plot the ROC Curves"
   ]
  },
  {
   "cell_type": "code",
   "execution_count": 10,
   "metadata": {
    "collapsed": true
   },
   "outputs": [],
   "source": [
    "def compute_roc(data):\n",
    "    return metrics.roc_curve(data['measured'], data['prob_AM'], pos_label=0)[:2]"
   ]
  },
  {
   "cell_type": "code",
   "execution_count": 11,
   "metadata": {
    "collapsed": true
   },
   "outputs": [],
   "source": [
    "roc_data = [(x,compute_roc(y)) for x,y in data]"
   ]
  },
  {
   "cell_type": "code",
   "execution_count": 12,
   "metadata": {
    "collapsed": true
   },
   "outputs": [],
   "source": [
    "for x,roc in roc_data:\n",
    "    pd.DataFrame({'FPR':roc[0], 'TPR':roc[1]}).to_csv('results/%s.csv'%x.replace(' ',''), index=False)"
   ]
  },
  {
   "cell_type": "code",
   "execution_count": 13,
   "metadata": {},
   "outputs": [
    {
     "data": {
      "image/png": "[encoded data removed]",
      "text/plain": [
       "<matplotlib.figure.Figure at 0x7f8448164910>"
      ]
     },
     "metadata": {},
     "output_type": "display_data"
    }
   ],
   "source": [
    "fig, ax = plt.subplots()\n",
    "\n",
    "# Set the color loop\n",
    "cmap = cm.get_cmap('Reds')\n",
    "ax.set_prop_cycle(cycler('color', [cmap(x) for x in np.linspace(0.3,1,len(roc_data))]) +\n",
    "                                  cycler('dashes', [(x,1) for x in np.linspace(1,10,len(roc_data))]))\n",
    "\n",
    "for name,roc in roc_data:\n",
    "    ax.plot(roc[0], roc[1], label=name)\n",
    "\n",
    "ax.plot([0,1],[0,1], 'k-', dashes=(1000,1))\n",
    "\n",
    "ax.set_xlabel('False Positive Rate')\n",
    "ax.set_ylabel('True Positive Rate')\n",
    "ax.set_xlim([-0.01,1.01])\n",
    "ax.set_ylim([-0.01,1.01])\n",
    "\n",
    "ax.legend()\n",
    "\n",
    "fig.set_size_inches(fig_width, fig_height)\n",
    "fig.tight_layout()\n",
    "\n",
    "fig.savefig(fig_name)"
   ]
  },
  {
   "cell_type": "code",
   "execution_count": null,
   "metadata": {
    "collapsed": true
   },
   "outputs": [],
   "source": []
  },
  {
   "cell_type": "code",
   "execution_count": null,
   "metadata": {
    "collapsed": true
   },
   "outputs": [],
   "source": []
  }
 ],
 "metadata": {
  "kernelspec": {
   "display_name": "Python 2",
   "language": "python",
   "name": "python2"
  },
  "language_info": {
   "codemirror_mode": {
    "name": "ipython",
    "version": 2
   },
   "file_extension": ".py",
   "mimetype": "text/x-python",
   "name": "python",
   "nbconvert_exporter": "python",
   "pygments_lexer": "ipython2",
   "version": "2.7.13"
  }
 },
 "nbformat": 4,
 "nbformat_minor": 2
}
