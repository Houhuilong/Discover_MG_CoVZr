{
 "cells": [
  {
   "cell_type": "markdown",
   "metadata": {
    "deletable": true,
    "editable": true
   },
   "source": [
    "# Analyze CV Results\n",
    "Compile the results of the CV tests"
   ]
  },
  {
   "cell_type": "code",
   "execution_count": 1,
   "metadata": {
    "collapsed": true,
    "deletable": true,
    "editable": true
   },
   "outputs": [],
   "source": [
    "%matplotlib inline\n",
    "import scipy as sp\n",
    "import numpy as np\n",
    "from sklearn import metrics\n",
    "import pandas as pd\n",
    "from matplotlib import pyplot as plt\n",
    "import json\n",
    "import gzip\n",
    "import os"
   ]
  },
  {
   "cell_type": "markdown",
   "metadata": {
    "deletable": true,
    "editable": true
   },
   "source": [
    "Key variables to change"
   ]
  },
  {
   "cell_type": "code",
   "execution_count": 2,
   "metadata": {
    "collapsed": true,
    "deletable": true,
    "editable": true
   },
   "outputs": [],
   "source": [
    "# Data to analyze / how to analyze\n",
    "tests = ['no-processing', 'process-variable', 'split-model', 'meltspin-stacked']\n",
    "test_names = ['No\\nProcessing', 'Processing\\nAttribute', 'Separate\\nModels', 'Stacked\\nModels']\n",
    "\n",
    "n_cv = 250 # Number of iterations for CV test\n",
    "\n",
    "# Output settings\n",
    "plotWidth = 89 / 22.5\n",
    "plotHeight = plotWidth * 3.0 / 4"
   ]
  },
  {
   "cell_type": "markdown",
   "metadata": {
    "deletable": true,
    "editable": true
   },
   "source": [
    "## Create Analysis Functions\n",
    "This is the part of the script for creating and testing the analysis functions. These will be employed on all tests and used to generate figures later"
   ]
  },
  {
   "cell_type": "code",
   "execution_count": 3,
   "metadata": {
    "collapsed": true,
    "deletable": true,
    "editable": true
   },
   "outputs": [],
   "source": [
    "def read_cv_data(d):\n",
    "    \"\"\"Read the CV results for a certain test\n",
    "\n",
    "    :param d: Name of test directory\"\"\"\n",
    "\n",
    "    json_data = json.load(gzip.open(os.path.join(d, 'cv_test_data.json.gz'), 'rb'))\n",
    "\n",
    "    # Get processing type names\n",
    "    proc_names = json_data['properties'][1]['classes']\n",
    "\n",
    "    # Get a few different stats\n",
    "    composition = [e['composition'] for e in json_data['entries']]\n",
    "    processing = [proc_names[e['properties'][1]['measured']] for e in json_data['entries']]\n",
    "    gfa_meas = [e['properties'][0]['measured'] for e in json_data['entries']]\n",
    "    gfa_pred = [e['properties'][0]['predicted'] for e in json_data['entries']]\n",
    "    gfa_am_prob = [e['properties'][0]['probabilities'][0] for e in json_data['entries']]\n",
    "\n",
    "    # Return as a data frame\n",
    "    return pd.DataFrame(list(zip(composition,processing,gfa_meas,gfa_pred,gfa_am_prob)),\n",
    "        columns=['composition','processing','gfa_measured','gfa_predicted','gfa_prob_am'])"
   ]
  },
  {
   "cell_type": "code",
   "execution_count": 4,
   "metadata": {
    "collapsed": false,
    "deletable": true,
    "editable": true
   },
   "outputs": [],
   "source": [
    "data = read_cv_data('meltspin-stacked')"
   ]
  },
  {
   "cell_type": "code",
   "execution_count": 5,
   "metadata": {
    "collapsed": false,
    "deletable": true,
    "editable": true
   },
   "outputs": [],
   "source": [
    "def assign_test_id(data):\n",
    "    \"\"\"Mark which CV iteration each point came from.\n",
    "    \n",
    "    :param data: DataFrame, data to be labelled\"\"\"\n",
    "    test_size = len(data) / n_cv\n",
    "    data['testID'] = [int(i / test_size) for i in range(len(data))]"
   ]
  },
  {
   "cell_type": "code",
   "execution_count": 6,
   "metadata": {
    "collapsed": false,
    "deletable": true,
    "editable": true
   },
   "outputs": [],
   "source": [
    "assign_test_id(data)"
   ]
  },
  {
   "cell_type": "code",
   "execution_count": 7,
   "metadata": {
    "collapsed": true,
    "deletable": true,
    "editable": true
   },
   "outputs": [],
   "source": [
    "def compute_accuracy(data):\n",
    "    \"\"\"Compute the classification accuracy\n",
    "    \n",
    "    :param data: DataFrame, data used to compute accuracy\"\"\"\n",
    "    return float(sum(data['gfa_measured'] == data['gfa_predicted'])) / float(len(data))"
   ]
  },
  {
   "cell_type": "code",
   "execution_count": 8,
   "metadata": {
    "collapsed": false,
    "deletable": true,
    "editable": true
   },
   "outputs": [
    {
     "name": "stdout",
     "output_type": "stream",
     "text": [
      "Accuracy: 89.49%\n"
     ]
    }
   ],
   "source": [
    "print(\"Accuracy: %.2f%%\"%(compute_accuracy(data)*100))"
   ]
  },
  {
   "cell_type": "code",
   "execution_count": 9,
   "metadata": {
    "collapsed": true,
    "deletable": true,
    "editable": true
   },
   "outputs": [],
   "source": [
    "def compute_roc_auc(data):\n",
    "    \"\"\"Compute the area under ROC curve\"\"\"\n",
    "    return metrics.roc_auc_score(data['gfa_measured'], 1.0-data['gfa_prob_am'])\n",
    "def compute_roc(data):\n",
    "    return metrics.roc_curve(data['gfa_measured'], 1.0 - data['gfa_prob_am'])"
   ]
  },
  {
   "cell_type": "code",
   "execution_count": 10,
   "metadata": {
    "collapsed": false,
    "deletable": true,
    "editable": true
   },
   "outputs": [
    {
     "name": "stdout",
     "output_type": "stream",
     "text": [
      "Area Under ROC: 0.953179\n"
     ]
    }
   ],
   "source": [
    "print(\"Area Under ROC: %f\"%compute_roc_auc(data))"
   ]
  },
  {
   "cell_type": "code",
   "execution_count": 11,
   "metadata": {
    "collapsed": false,
    "deletable": true,
    "editable": true
   },
   "outputs": [
    {
     "data": {
      "image/png": "[encoded data removed]",
      "text/plain": [
       "<matplotlib.figure.Figure at 0x7f7a2ef36cf8>"
      ]
     },
     "metadata": {},
     "output_type": "display_data"
    }
   ],
   "source": [
    "fig, ax = plt.subplots()\n",
    "\n",
    "def plot_roc_curve(ax, data):\n",
    "    fpr, tpr, thr = compute_roc(data)\n",
    "\n",
    "    ax.plot(fpr,tpr,'b')\n",
    "    ax.plot([0,1],[0,1],'k--')\n",
    "\n",
    "    ax.set_xlim([0,1])\n",
    "    ax.set_ylim([0,1])\n",
    "\n",
    "    ax.set_xlabel('False Positive Rate')\n",
    "    ax.set_ylabel('True Positive Rate')\n",
    "\n",
    "plot_roc_curve(ax, data)"
   ]
  },
  {
   "cell_type": "markdown",
   "metadata": {
    "deletable": true,
    "editable": true
   },
   "source": [
    "## Analyze All the Tests\n",
    "Get the accuracy for all tests, broken down by 'sputtering' and 'meltspin' processing variables. Also get the 90% confidence intervals"
   ]
  },
  {
   "cell_type": "code",
   "execution_count": 12,
   "metadata": {
    "collapsed": true,
    "deletable": true,
    "editable": true
   },
   "outputs": [],
   "source": [
    "def get_results(data):\n",
    "    \"\"\"Compute all of the test statistics for a single dataset. \n",
    "    \n",
    "    :param data: Results to be analyzed\n",
    "    :return: dict, all results\"\"\"\n",
    "    \n",
    "    output = dict()\n",
    "    \n",
    "    # Assign ids to each test\n",
    "    assign_test_id(data)\n",
    "    \n",
    "    # Get the stats over all tests\n",
    "    acc = [compute_accuracy(group) for gid,group in data.groupby('testID')]\n",
    "    output['accuracy_total'], _, _ = sp.stats.bayes_mvs(acc)\n",
    "    \n",
    "    roc = [compute_roc_auc(group) for gid,group in data.groupby('testID')]\n",
    "    output['rocauc_total'], _, _ = sp.stats.bayes_mvs(roc)\n",
    "    \n",
    "    output['roc_total'] = compute_roc(data)\n",
    "    \n",
    "    # Break down by processing condition\n",
    "    for proc in ['meltspin', 'sputtering']:\n",
    "        sub = data.query('processing == \"%s\"'%proc)\n",
    "        \n",
    "        acc = [compute_accuracy(group) for gid,group in sub.groupby('testID')]\n",
    "        output['accuracy_%s'%proc], _, _ = sp.stats.bayes_mvs(acc)\n",
    "\n",
    "        roc = [compute_roc_auc(group) for gid,group in sub.groupby('testID')]\n",
    "        output['rocauc_%s'%proc], _, _ = sp.stats.bayes_mvs(roc)\n",
    "\n",
    "        output['roc_%s'%proc] = compute_roc(sub)\n",
    "    \n",
    "    return output"
   ]
  },
  {
   "cell_type": "code",
   "execution_count": 13,
   "metadata": {
    "collapsed": false,
    "deletable": true,
    "editable": true
   },
   "outputs": [
    {
     "name": "stdout",
     "output_type": "stream",
     "text": [
      "dict_keys(['accuracy_total', 'rocauc_total', 'roc_total', 'accuracy_meltspin', 'rocauc_meltspin', 'roc_meltspin', 'accuracy_sputtering', 'rocauc_sputtering', 'roc_sputtering'])\n"
     ]
    }
   ],
   "source": [
    "results = get_results(data)\n",
    "print(results.keys())"
   ]
  },
  {
   "cell_type": "code",
   "execution_count": 14,
   "metadata": {
    "collapsed": false,
    "deletable": true,
    "editable": true
   },
   "outputs": [
    {
     "name": "stdout",
     "output_type": "stream",
     "text": [
      "CPU times: user 1min 1s, sys: 1.58 s, total: 1min 3s\n",
      "Wall time: 1min 3s\n"
     ]
    }
   ],
   "source": [
    "%%time\n",
    "results = dict([(test,get_results(read_cv_data(test))) for test in tests])"
   ]
  },
  {
   "cell_type": "code",
   "execution_count": 15,
   "metadata": {
    "collapsed": false,
    "deletable": true,
    "editable": true
   },
   "outputs": [
    {
     "data": {
      "text/plain": [
       "dict_keys(['no-processing', 'process-variable', 'split-model', 'meltspin-stacked'])"
      ]
     },
     "execution_count": 15,
     "metadata": {},
     "output_type": "execute_result"
    }
   ],
   "source": [
    "results.keys()"
   ]
  },
  {
   "cell_type": "markdown",
   "metadata": {
    "deletable": true,
    "editable": true
   },
   "source": [
    "## Compare the results\n",
    "Compare a few different tests. Plots show the overall accuracy (or ROC AUC) for each model, the accuracy broken down by meltspin and sputtering. Plots are complete with the 90% CI as error bars"
   ]
  },
  {
   "cell_type": "code",
   "execution_count": 16,
   "metadata": {
    "collapsed": false,
    "deletable": true,
    "editable": true
   },
   "outputs": [
    {
     "data": {
      "text/html": [
       "<div>\n",
       "<style>\n",
       "    .dataframe thead tr:only-child th {\n",
       "        text-align: right;\n",
       "    }\n",
       "\n",
       "    .dataframe thead th {\n",
       "        text-align: left;\n",
       "    }\n",
       "\n",
       "    .dataframe tbody tr th {\n",
       "        vertical-align: top;\n",
       "    }\n",
       "</style>\n",
       "<table border=\"1\" class=\"dataframe\">\n",
       "  <thead>\n",
       "    <tr style=\"text-align: right;\">\n",
       "      <th></th>\n",
       "      <th>method</th>\n",
       "      <th>total</th>\n",
       "      <th>total_err</th>\n",
       "      <th>meltspin</th>\n",
       "      <th>meltspin_err</th>\n",
       "      <th>sputtering</th>\n",
       "      <th>sputtering_err</th>\n",
       "    </tr>\n",
       "  </thead>\n",
       "  <tbody>\n",
       "    <tr>\n",
       "      <th>0</th>\n",
       "      <td>no-processing</td>\n",
       "      <td>89.142507</td>\n",
       "      <td>0.091186</td>\n",
       "      <td>89.263947</td>\n",
       "      <td>0.095153</td>\n",
       "      <td>87.517223</td>\n",
       "      <td>0.359139</td>\n",
       "    </tr>\n",
       "    <tr>\n",
       "      <th>1</th>\n",
       "      <td>process-variable</td>\n",
       "      <td>89.147765</td>\n",
       "      <td>0.086800</td>\n",
       "      <td>89.237530</td>\n",
       "      <td>0.092779</td>\n",
       "      <td>87.946272</td>\n",
       "      <td>0.343144</td>\n",
       "    </tr>\n",
       "    <tr>\n",
       "      <th>2</th>\n",
       "      <td>split-model</td>\n",
       "      <td>89.417353</td>\n",
       "      <td>0.089167</td>\n",
       "      <td>89.467571</td>\n",
       "      <td>0.092399</td>\n",
       "      <td>88.720301</td>\n",
       "      <td>0.339896</td>\n",
       "    </tr>\n",
       "    <tr>\n",
       "      <th>3</th>\n",
       "      <td>meltspin-stacked</td>\n",
       "      <td>89.493427</td>\n",
       "      <td>0.085133</td>\n",
       "      <td>89.514244</td>\n",
       "      <td>0.089839</td>\n",
       "      <td>89.210976</td>\n",
       "      <td>0.340432</td>\n",
       "    </tr>\n",
       "  </tbody>\n",
       "</table>\n",
       "</div>"
      ],
      "text/plain": [
       "             method      total  total_err   meltspin  meltspin_err  \\\n",
       "0     no-processing  89.142507   0.091186  89.263947      0.095153   \n",
       "1  process-variable  89.147765   0.086800  89.237530      0.092779   \n",
       "2       split-model  89.417353   0.089167  89.467571      0.092399   \n",
       "3  meltspin-stacked  89.493427   0.085133  89.514244      0.089839   \n",
       "\n",
       "   sputtering  sputtering_err  \n",
       "0   87.517223        0.359139  \n",
       "1   87.946272        0.343144  \n",
       "2   88.720301        0.339896  \n",
       "3   89.210976        0.340432  "
      ]
     },
     "execution_count": 16,
     "metadata": {},
     "output_type": "execute_result"
    },
    {
     "data": {
      "image/png": "[encoded data removed]",
      "text/plain": [
       "<matplotlib.figure.Figure at 0x7f7a44725780>"
      ]
     },
     "metadata": {},
     "output_type": "display_data"
    }
   ],
   "source": [
    "fig, ax = plt.subplots()\n",
    "\n",
    "\n",
    "# Plot the data for all \n",
    "data = pd.DataFrame(tests, columns=['method'])\n",
    "acc = [results[t]['accuracy_total'][0]*100 for t in tests]\n",
    "acc_err = [sum(np.abs(np.array(results[t]['accuracy_total'][1])*100 - mean))/2 for t,mean in zip(tests,acc)]\n",
    "rects = ax.bar(np.arange(0,len(acc)), acc, width=0.8,\n",
    "               facecolor='none', edgecolor='black', linewidth=2,\n",
    "               yerr=acc_err, error_kw=dict(ecolor='k', width=2))\n",
    "data['total'], data['total_err'] = acc, acc_err\n",
    "\n",
    "acc = [results[t]['accuracy_meltspin'][0]*100 for t in tests]\n",
    "acc_err = [sum(np.abs(np.array(results[t]['accuracy_meltspin'][1])*100 - mean))/2 for t,mean in zip(tests,acc)]\n",
    "rects_ms = ax.bar(np.arange(0,len(acc))-0.25, acc, width=0.4, color='crimson',\n",
    "       yerr=acc_err, error_kw=dict(ecolor='k', width=2))\n",
    "data['meltspin'], data['meltspin_err'] = acc, acc_err\n",
    "\n",
    "acc = [results[t]['accuracy_sputtering'][0]*100 for t in tests]\n",
    "acc_err = [sum(np.abs(np.array(results[t]['accuracy_sputtering'][1])*100 - mean))/2 for t,mean in zip(tests,acc)]\n",
    "rects_sp = ax.bar(np.arange(0,len(acc))+ 0.25, acc, width=0.4, color='darkcyan',\n",
    "       yerr=acc_err, error_kw=dict(ecolor='k', width=2))\n",
    "data['sputtering'], data['sputtering_err'] = acc, acc_err\n",
    "\n",
    "ax.legend((rects_ms[0],rects_sp[0]), ('Melt Spinning', 'Sputtering'), ncol=2, loc=(0.05,0.95))\n",
    "        \n",
    "# Label the axes\n",
    "ax.set_ylabel('Accuracy (%)')\n",
    "ax.set_xticks(np.arange(0,len(acc)))\n",
    "ax.set_xticklabels(test_names)\n",
    "ax.set_xlabel('Modeling Method')\n",
    "\n",
    "ax.set_ylim(85, 90)\n",
    "\n",
    "fig.set_size_inches(plotWidth, plotHeight)\n",
    "plt.tight_layout()\n",
    "fig.savefig(os.path.join('..','..','figures','FigureS7.png'), dpi=320)\n",
    "\n",
    "data"
   ]
  },
  {
   "cell_type": "code",
   "execution_count": 17,
   "metadata": {
    "collapsed": false,
    "deletable": true,
    "editable": true
   },
   "outputs": [
    {
     "data": {
      "text/html": [
       "<div>\n",
       "<style>\n",
       "    .dataframe thead tr:only-child th {\n",
       "        text-align: right;\n",
       "    }\n",
       "\n",
       "    .dataframe thead th {\n",
       "        text-align: left;\n",
       "    }\n",
       "\n",
       "    .dataframe tbody tr th {\n",
       "        vertical-align: top;\n",
       "    }\n",
       "</style>\n",
       "<table border=\"1\" class=\"dataframe\">\n",
       "  <thead>\n",
       "    <tr style=\"text-align: right;\">\n",
       "      <th></th>\n",
       "      <th>method</th>\n",
       "      <th>total</th>\n",
       "      <th>total_err</th>\n",
       "      <th>meltspin</th>\n",
       "      <th>meltspin_err</th>\n",
       "      <th>sputtering</th>\n",
       "      <th>sputtering_err</th>\n",
       "    </tr>\n",
       "  </thead>\n",
       "  <tbody>\n",
       "    <tr>\n",
       "      <th>0</th>\n",
       "      <td>no-processing</td>\n",
       "      <td>95.108205</td>\n",
       "      <td>0.063564</td>\n",
       "      <td>95.293952</td>\n",
       "      <td>0.066936</td>\n",
       "      <td>93.043865</td>\n",
       "      <td>0.309887</td>\n",
       "    </tr>\n",
       "    <tr>\n",
       "      <th>1</th>\n",
       "      <td>process-variable</td>\n",
       "      <td>95.099988</td>\n",
       "      <td>0.061245</td>\n",
       "      <td>95.235692</td>\n",
       "      <td>0.062761</td>\n",
       "      <td>93.689743</td>\n",
       "      <td>0.297970</td>\n",
       "    </tr>\n",
       "    <tr>\n",
       "      <th>2</th>\n",
       "      <td>split-model</td>\n",
       "      <td>95.271829</td>\n",
       "      <td>0.061974</td>\n",
       "      <td>95.300240</td>\n",
       "      <td>0.064480</td>\n",
       "      <td>95.010385</td>\n",
       "      <td>0.236563</td>\n",
       "    </tr>\n",
       "    <tr>\n",
       "      <th>3</th>\n",
       "      <td>meltspin-stacked</td>\n",
       "      <td>95.328946</td>\n",
       "      <td>0.059223</td>\n",
       "      <td>95.350886</td>\n",
       "      <td>0.060179</td>\n",
       "      <td>95.101005</td>\n",
       "      <td>0.235723</td>\n",
       "    </tr>\n",
       "  </tbody>\n",
       "</table>\n",
       "</div>"
      ],
      "text/plain": [
       "             method      total  total_err   meltspin  meltspin_err  \\\n",
       "0     no-processing  95.108205   0.063564  95.293952      0.066936   \n",
       "1  process-variable  95.099988   0.061245  95.235692      0.062761   \n",
       "2       split-model  95.271829   0.061974  95.300240      0.064480   \n",
       "3  meltspin-stacked  95.328946   0.059223  95.350886      0.060179   \n",
       "\n",
       "   sputtering  sputtering_err  \n",
       "0   93.043865        0.309887  \n",
       "1   93.689743        0.297970  \n",
       "2   95.010385        0.236563  \n",
       "3   95.101005        0.235723  "
      ]
     },
     "execution_count": 17,
     "metadata": {},
     "output_type": "execute_result"
    },
    {
     "data": {
      "image/png": "[encoded data removed]",
      "text/plain": [
       "<matplotlib.figure.Figure at 0x7f7a2ef36eb8>"
      ]
     },
     "metadata": {},
     "output_type": "display_data"
    }
   ],
   "source": [
    "fig, ax = plt.subplots()\n",
    "\n",
    "\n",
    "# Plot the data for all\n",
    "data = pd.DataFrame(tests, columns=['method'])\n",
    "acc = [results[t]['rocauc_total'][0]*100 for t in tests]\n",
    "acc_err = [sum(np.abs(np.array(results[t]['rocauc_total'][1])*100 - mean))/2 for t,mean in zip(tests,acc)]\n",
    "ax.bar(np.arange(0,len(acc)), acc, width=0.8,\n",
    "               facecolor='none', edgecolor='black', linewidth=2,\n",
    "               yerr=acc_err, error_kw=dict(ecolor='k', width=2))\n",
    "data['total'], data['total_err'] = acc, acc_err\n",
    "\n",
    "acc = [results[t]['rocauc_meltspin'][0]*100 for t in tests]\n",
    "acc_err = [sum(np.abs(np.array(results[t]['rocauc_meltspin'][1])*100 - mean))/2 for t,mean in zip(tests,acc)]\n",
    "rects_ms = ax.bar(np.arange(0,len(acc))-0.25, acc, width=0.4, color='crimson',\n",
    "       yerr=acc_err, error_kw=dict(ecolor='k', width=2))\n",
    "data['meltspin'], data['meltspin_err'] = acc, acc_err\n",
    "\n",
    "acc = [results[t]['rocauc_sputtering'][0]*100 for t in tests]\n",
    "acc_err = [sum(np.abs(np.array(results[t]['rocauc_sputtering'][1])*100 - mean))/2 for t,mean in zip(tests,acc)]\n",
    "rects_sp = ax.bar(np.arange(0,len(acc))+ 0.25, acc, width=0.4, color='darkcyan',\n",
    "       yerr=acc_err, error_kw=dict(ecolor='k', width=2))\n",
    "data['sputtering'], data['sputtering_err'] = acc, acc_err\n",
    "\n",
    "ax.legend((rects_ms[0],rects_sp[0]), ('Melt Spinning', 'Sputtering'), ncol=2, loc=(0.05,0.95))\n",
    "        \n",
    "# Label the axes\n",
    "ax.set_ylabel('Area Under ROC Curve (%)')\n",
    "ax.set_xlabel('Method')\n",
    "ax.set_xticks(np.arange(0,len(acc)))\n",
    "ax.set_xticklabels(test_names)\n",
    "\n",
    "ax.set_ylim(90, 101);\n",
    "\n",
    "fig.set_size_inches(plotWidth, plotHeight)\n",
    "\n",
    "fig.savefig('cv_rocauc.png', dpi=320)\n",
    "data"
   ]
  },
  {
   "cell_type": "code",
   "execution_count": 18,
   "metadata": {
    "collapsed": true,
    "deletable": true,
    "editable": true
   },
   "outputs": [],
   "source": []
  }
 ],
 "metadata": {
  "kernelspec": {
   "display_name": "Python 3",
   "language": "python",
   "name": "python3"
  },
  "language_info": {
   "codemirror_mode": {
    "name": "ipython",
    "version": 3
   },
   "file_extension": ".py",
   "mimetype": "text/x-python",
   "name": "python",
   "nbconvert_exporter": "python",
   "pygments_lexer": "ipython3",
   "version": "3.6.0"
  }
 },
 "nbformat": 4,
 "nbformat_minor": 2
}
