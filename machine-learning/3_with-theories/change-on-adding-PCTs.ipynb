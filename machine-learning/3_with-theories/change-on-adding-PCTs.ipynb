{
 "cells": [
  {
   "cell_type": "markdown",
   "metadata": {},
   "source": [
    "# Change on Adding Theories\n",
    "Study how much predictions change on adding Phyisochemical Theories (PCTs)."
   ]
  },
  {
   "cell_type": "code",
   "execution_count": 1,
   "metadata": {
    "collapsed": true
   },
   "outputs": [],
   "source": [
    "%matplotlib inline\n",
    "from matplotlib import pyplot as plt\n",
    "from tqdm import tqdm_notebook as tqdm\n",
    "import pandas as pd\n",
    "import numpy as np\n",
    "import json\n",
    "import gzip\n",
    "import os\n",
    "import re"
   ]
  },
  {
   "cell_type": "markdown",
   "metadata": {},
   "source": [
    "## Load in the datasets\n",
    "We use 2 datasets, the results from a search for new glasses before and after adding the theories"
   ]
  },
  {
   "cell_type": "code",
   "execution_count": 2,
   "metadata": {},
   "outputs": [],
   "source": [
    "def load_data(path, prefix):\n",
    "    \"\"\"Load in the composition and liklihood of forming a glass\n",
    "    \n",
    "    :param path: str, path to dataset\"\"\"\n",
    "    \n",
    "    with gzip.open(path, 'rt') as fp:\n",
    "        temp = json.load(fp)\n",
    "    \n",
    "    return pd.DataFrame({\n",
    "        'composition': [e['composition'] for e in temp['entries']],\n",
    "        'probability_%s'%prefix: [e['class']['probabilities'][0] for e in temp['entries']]\n",
    "    })\n",
    "before = load_data(os.path.join('..', '2_with-processing-method', 'new-glasses.json.gz'), 'before')"
   ]
  },
  {
   "cell_type": "code",
   "execution_count": 3,
   "metadata": {
    "collapsed": true
   },
   "outputs": [],
   "source": [
    "after = load_data('new-glasses.json.gz', 'after')"
   ]
  },
  {
   "cell_type": "markdown",
   "metadata": {},
   "source": [
    "## Measure change in predictions\n",
    "We want to see how the addition of theories changes individual predictions"
   ]
  },
  {
   "cell_type": "code",
   "execution_count": 4,
   "metadata": {},
   "outputs": [],
   "source": [
    "data = before.merge(after, on='composition', copy=False)\n",
    "del before, after"
   ]
  },
  {
   "cell_type": "code",
   "execution_count": 5,
   "metadata": {},
   "outputs": [
    {
     "data": {
      "text/html": [
       "<div>\n",
       "<style>\n",
       "    .dataframe thead tr:only-child th {\n",
       "        text-align: right;\n",
       "    }\n",
       "\n",
       "    .dataframe thead th {\n",
       "        text-align: left;\n",
       "    }\n",
       "\n",
       "    .dataframe tbody tr th {\n",
       "        vertical-align: top;\n",
       "    }\n",
       "</style>\n",
       "<table border=\"1\" class=\"dataframe\">\n",
       "  <thead>\n",
       "    <tr style=\"text-align: right;\">\n",
       "      <th></th>\n",
       "      <th>composition</th>\n",
       "      <th>probability_before</th>\n",
       "      <th>probability_after</th>\n",
       "    </tr>\n",
       "  </thead>\n",
       "  <tbody>\n",
       "    <tr>\n",
       "      <th>0</th>\n",
       "      <td>Al</td>\n",
       "      <td>0.0425</td>\n",
       "      <td>0.066970</td>\n",
       "    </tr>\n",
       "    <tr>\n",
       "      <th>1</th>\n",
       "      <td>B</td>\n",
       "      <td>0.1300</td>\n",
       "      <td>0.159906</td>\n",
       "    </tr>\n",
       "    <tr>\n",
       "      <th>2</th>\n",
       "      <td>Ba</td>\n",
       "      <td>0.1425</td>\n",
       "      <td>0.128562</td>\n",
       "    </tr>\n",
       "    <tr>\n",
       "      <th>3</th>\n",
       "      <td>Ca</td>\n",
       "      <td>0.0650</td>\n",
       "      <td>0.060000</td>\n",
       "    </tr>\n",
       "    <tr>\n",
       "      <th>4</th>\n",
       "      <td>Co</td>\n",
       "      <td>0.0450</td>\n",
       "      <td>0.070000</td>\n",
       "    </tr>\n",
       "  </tbody>\n",
       "</table>\n",
       "</div>"
      ],
      "text/plain": [
       "  composition  probability_before  probability_after\n",
       "0          Al              0.0425           0.066970\n",
       "1           B              0.1300           0.159906\n",
       "2          Ba              0.1425           0.128562\n",
       "3          Ca              0.0650           0.060000\n",
       "4          Co              0.0450           0.070000"
      ]
     },
     "execution_count": 5,
     "metadata": {},
     "output_type": "execute_result"
    }
   ],
   "source": [
    "data.head()"
   ]
  },
  {
   "cell_type": "code",
   "execution_count": 6,
   "metadata": {
    "collapsed": true
   },
   "outputs": [],
   "source": [
    "data['change'] = data['probability_before'] - data['probability_after']"
   ]
  },
  {
   "cell_type": "code",
   "execution_count": 7,
   "metadata": {
    "collapsed": true
   },
   "outputs": [],
   "source": [
    "data['change_abs'] = data['change'].apply(abs)"
   ]
  },
  {
   "cell_type": "markdown",
   "metadata": {},
   "source": [
    "Make a histogram"
   ]
  },
  {
   "cell_type": "code",
   "execution_count": 8,
   "metadata": {},
   "outputs": [
    {
     "data": {
      "text/plain": [
       "<matplotlib.text.Text at 0x1d349cf0358>"
      ]
     },
     "execution_count": 8,
     "metadata": {},
     "output_type": "execute_result"
    },
    {
     "data": {
      "image/png": "[encoded data removed]",
      "text/plain": [
       "<matplotlib.figure.Figure at 0x1d2b068a908>"
      ]
     },
     "metadata": {},
     "output_type": "display_data"
    }
   ],
   "source": [
    "fig, ax = plt.subplots()\n",
    "\n",
    "ax.hist(data['change'] * 100, bins=50)\n",
    "\n",
    "ax.set_xlabel('Change (%)')\n",
    "ax.set_ylabel('Frequency')"
   ]
  },
  {
   "cell_type": "code",
   "execution_count": 9,
   "metadata": {},
   "outputs": [
    {
     "name": "stdout",
     "output_type": "stream",
     "text": [
      "Fraction predictions with >10% change: 3.96%\n"
     ]
    }
   ],
   "source": [
    "print('Fraction predictions with >10%% change: %.2f%%'%(np.mean(data['change_abs'] > 0.1) * 100))"
   ]
  },
  {
   "cell_type": "markdown",
   "metadata": {},
   "source": [
    "*Finding*: Some entries change quite signifcantly."
   ]
  },
  {
   "cell_type": "markdown",
   "metadata": {},
   "source": [
    "Check whether only the entries with probabilities close to the mean of the training set change. This would imply the changes are due to "
   ]
  },
  {
   "cell_type": "code",
   "execution_count": 10,
   "metadata": {},
   "outputs": [
    {
     "data": {
      "text/plain": [
       "<matplotlib.text.Text at 0x1d2a72c3be0>"
      ]
     },
     "execution_count": 10,
     "metadata": {},
     "output_type": "execute_result"
    },
    {
     "data": {
      "image/png": "[encoded data removed]",
      "text/plain": [
       "<matplotlib.figure.Figure at 0x1d324e897f0>"
      ]
     },
     "metadata": {},
     "output_type": "display_data"
    }
   ],
   "source": [
    "fig, ax = plt.subplots()\n",
    "\n",
    "ax.hist2d(data['change'], data['probability_before'], cmap='Blues', bins=50)\n",
    "\n",
    "ax.set_xlabel('Change')\n",
    "ax.set_ylabel('Probability')"
   ]
  },
  {
   "cell_type": "markdown",
   "metadata": {},
   "source": [
    "*Finding*: The changes are actually skewed to positive changes, which is less suggestive of the changes being due to the randomness"
   ]
  },
  {
   "cell_type": "markdown",
   "metadata": {},
   "source": [
    "## Where are the changes localized\n",
    "Which composition? Any particular systems"
   ]
  },
  {
   "cell_type": "code",
   "execution_count": 11,
   "metadata": {},
   "outputs": [
    {
     "data": {
      "text/html": [
       "<div>\n",
       "<style>\n",
       "    .dataframe thead tr:only-child th {\n",
       "        text-align: right;\n",
       "    }\n",
       "\n",
       "    .dataframe thead th {\n",
       "        text-align: left;\n",
       "    }\n",
       "\n",
       "    .dataframe tbody tr th {\n",
       "        vertical-align: top;\n",
       "    }\n",
       "</style>\n",
       "<table border=\"1\" class=\"dataframe\">\n",
       "  <thead>\n",
       "    <tr style=\"text-align: right;\">\n",
       "      <th></th>\n",
       "      <th>composition</th>\n",
       "      <th>probability_before</th>\n",
       "      <th>probability_after</th>\n",
       "      <th>change</th>\n",
       "      <th>change_abs</th>\n",
       "    </tr>\n",
       "  </thead>\n",
       "  <tbody>\n",
       "    <tr>\n",
       "      <th>1005441</th>\n",
       "      <td>Ca0.36Mg0.52Cr0.12</td>\n",
       "      <td>0.4450</td>\n",
       "      <td>0.700</td>\n",
       "      <td>-0.2550</td>\n",
       "      <td>0.2550</td>\n",
       "    </tr>\n",
       "    <tr>\n",
       "      <th>881977</th>\n",
       "      <td>Ca0.4Mg0.48Cr0.12</td>\n",
       "      <td>0.4500</td>\n",
       "      <td>0.695</td>\n",
       "      <td>-0.2450</td>\n",
       "      <td>0.2450</td>\n",
       "    </tr>\n",
       "    <tr>\n",
       "      <th>1072233</th>\n",
       "      <td>Ca0.34Mg0.56Cr0.1</td>\n",
       "      <td>0.4375</td>\n",
       "      <td>0.680</td>\n",
       "      <td>-0.2425</td>\n",
       "      <td>0.2425</td>\n",
       "    </tr>\n",
       "    <tr>\n",
       "      <th>1740176</th>\n",
       "      <td>Mg0.68Al0.16In0.16</td>\n",
       "      <td>0.6550</td>\n",
       "      <td>0.415</td>\n",
       "      <td>0.2400</td>\n",
       "      <td>0.2400</td>\n",
       "    </tr>\n",
       "    <tr>\n",
       "      <th>823281</th>\n",
       "      <td>Ca0.42Mg0.46Cr0.12</td>\n",
       "      <td>0.4650</td>\n",
       "      <td>0.705</td>\n",
       "      <td>-0.2400</td>\n",
       "      <td>0.2400</td>\n",
       "    </tr>\n",
       "  </tbody>\n",
       "</table>\n",
       "</div>"
      ],
      "text/plain": [
       "                composition  probability_before  probability_after  change  \\\n",
       "1005441  Ca0.36Mg0.52Cr0.12              0.4450              0.700 -0.2550   \n",
       "881977    Ca0.4Mg0.48Cr0.12              0.4500              0.695 -0.2450   \n",
       "1072233   Ca0.34Mg0.56Cr0.1              0.4375              0.680 -0.2425   \n",
       "1740176  Mg0.68Al0.16In0.16              0.6550              0.415  0.2400   \n",
       "823281   Ca0.42Mg0.46Cr0.12              0.4650              0.705 -0.2400   \n",
       "\n",
       "         change_abs  \n",
       "1005441      0.2550  \n",
       "881977       0.2450  \n",
       "1072233      0.2425  \n",
       "1740176      0.2400  \n",
       "823281       0.2400  "
      ]
     },
     "execution_count": 11,
     "metadata": {},
     "output_type": "execute_result"
    }
   ],
   "source": [
    "data.sort_values('change_abs', ascending=False)[:5]"
   ]
  },
  {
   "cell_type": "markdown",
   "metadata": {},
   "source": [
    "*Finding*: The largest changes are those with Mg and Ca"
   ]
  },
  {
   "cell_type": "markdown",
   "metadata": {},
   "source": [
    "Compute the systems with the largest average change"
   ]
  },
  {
   "cell_type": "code",
   "execution_count": 12,
   "metadata": {
    "collapsed": true
   },
   "outputs": [],
   "source": [
    "elem_re = re.compile('[A-Z][a-z]?')\n",
    "data['system'] = data['composition'].apply(lambda x: tuple(sorted(elem_re.findall(x))))"
   ]
  },
  {
   "cell_type": "code",
   "execution_count": 13,
   "metadata": {},
   "outputs": [],
   "source": [
    "system_freq = data.groupby('system').mean()"
   ]
  },
  {
   "cell_type": "code",
   "execution_count": 14,
   "metadata": {
    "collapsed": true
   },
   "outputs": [],
   "source": [
    "system_freq['system'] = system_freq.index"
   ]
  },
  {
   "cell_type": "code",
   "execution_count": 15,
   "metadata": {},
   "outputs": [],
   "source": [
    "system_freq['above_10'] = data.groupby('system').apply(lambda x: sum(x['change_abs'] > 0.1) / len(x))"
   ]
  },
  {
   "cell_type": "code",
   "execution_count": 16,
   "metadata": {},
   "outputs": [],
   "source": [
    "system_freq['change_75p'] = data.groupby('system').apply(lambda x: np.percentile(x['change_abs'], 75))"
   ]
  },
  {
   "cell_type": "markdown",
   "metadata": {},
   "source": [
    "Get only the ternaries"
   ]
  },
  {
   "cell_type": "code",
   "execution_count": 17,
   "metadata": {},
   "outputs": [],
   "source": [
    "system_freq['is_ternary'] = system_freq['system'].apply(len) == 3\n",
    "system_freq = system_freq.query('is_ternary == True')"
   ]
  },
  {
   "cell_type": "code",
   "execution_count": 18,
   "metadata": {},
   "outputs": [
    {
     "name": "stdout",
     "output_type": "stream",
     "text": [
      "Average change for all ternaries 3.59%\n"
     ]
    }
   ],
   "source": [
    "print('Average change for all ternaries %.2f%%'%(system_freq['change_abs'].mean() * 100))"
   ]
  },
  {
   "cell_type": "markdown",
   "metadata": {},
   "source": [
    "Get the ternaries that change the most"
   ]
  },
  {
   "cell_type": "code",
   "execution_count": 19,
   "metadata": {},
   "outputs": [],
   "source": [
    "system_freq.sort_values('change_abs', ascending=False, inplace=True)"
   ]
  },
  {
   "cell_type": "code",
   "execution_count": 20,
   "metadata": {},
   "outputs": [
    {
     "data": {
      "text/html": [
       "<div>\n",
       "<style>\n",
       "    .dataframe thead tr:only-child th {\n",
       "        text-align: right;\n",
       "    }\n",
       "\n",
       "    .dataframe thead th {\n",
       "        text-align: left;\n",
       "    }\n",
       "\n",
       "    .dataframe tbody tr th {\n",
       "        vertical-align: top;\n",
       "    }\n",
       "</style>\n",
       "<table border=\"1\" class=\"dataframe\">\n",
       "  <thead>\n",
       "    <tr style=\"text-align: right;\">\n",
       "      <th></th>\n",
       "      <th>probability_before</th>\n",
       "      <th>probability_after</th>\n",
       "      <th>change</th>\n",
       "      <th>change_abs</th>\n",
       "      <th>system</th>\n",
       "      <th>above_10</th>\n",
       "      <th>change_75p</th>\n",
       "      <th>is_ternary</th>\n",
       "    </tr>\n",
       "    <tr>\n",
       "      <th>system</th>\n",
       "      <th></th>\n",
       "      <th></th>\n",
       "      <th></th>\n",
       "      <th></th>\n",
       "      <th></th>\n",
       "      <th></th>\n",
       "      <th></th>\n",
       "      <th></th>\n",
       "    </tr>\n",
       "  </thead>\n",
       "  <tbody>\n",
       "    <tr>\n",
       "      <th>(In, Mg, Sn)</th>\n",
       "      <td>0.598042</td>\n",
       "      <td>0.489464</td>\n",
       "      <td>0.108578</td>\n",
       "      <td>0.111796</td>\n",
       "      <td>(In, Mg, Sn)</td>\n",
       "      <td>0.621599</td>\n",
       "      <td>0.1525</td>\n",
       "      <td>True</td>\n",
       "    </tr>\n",
       "    <tr>\n",
       "      <th>(Al, Mg, Sn)</th>\n",
       "      <td>0.626975</td>\n",
       "      <td>0.524388</td>\n",
       "      <td>0.102587</td>\n",
       "      <td>0.106142</td>\n",
       "      <td>(Al, Mg, Sn)</td>\n",
       "      <td>0.607993</td>\n",
       "      <td>0.1400</td>\n",
       "      <td>True</td>\n",
       "    </tr>\n",
       "    <tr>\n",
       "      <th>(In, Sn, Ta)</th>\n",
       "      <td>0.825176</td>\n",
       "      <td>0.720404</td>\n",
       "      <td>0.104773</td>\n",
       "      <td>0.104794</td>\n",
       "      <td>(In, Sn, Ta)</td>\n",
       "      <td>0.498299</td>\n",
       "      <td>0.1325</td>\n",
       "      <td>True</td>\n",
       "    </tr>\n",
       "    <tr>\n",
       "      <th>(In, Sn, Zr)</th>\n",
       "      <td>0.790527</td>\n",
       "      <td>0.687504</td>\n",
       "      <td>0.103023</td>\n",
       "      <td>0.103427</td>\n",
       "      <td>(In, Sn, Zr)</td>\n",
       "      <td>0.642857</td>\n",
       "      <td>0.1275</td>\n",
       "      <td>True</td>\n",
       "    </tr>\n",
       "    <tr>\n",
       "      <th>(Al, In, Mg)</th>\n",
       "      <td>0.602179</td>\n",
       "      <td>0.508720</td>\n",
       "      <td>0.093459</td>\n",
       "      <td>0.099713</td>\n",
       "      <td>(Al, In, Mg)</td>\n",
       "      <td>0.516156</td>\n",
       "      <td>0.1450</td>\n",
       "      <td>True</td>\n",
       "    </tr>\n",
       "    <tr>\n",
       "      <th>(In, Nb, Zr)</th>\n",
       "      <td>0.779124</td>\n",
       "      <td>0.681684</td>\n",
       "      <td>0.097440</td>\n",
       "      <td>0.097538</td>\n",
       "      <td>(In, Nb, Zr)</td>\n",
       "      <td>0.505952</td>\n",
       "      <td>0.1225</td>\n",
       "      <td>True</td>\n",
       "    </tr>\n",
       "    <tr>\n",
       "      <th>(In, Mg, Zr)</th>\n",
       "      <td>0.692500</td>\n",
       "      <td>0.597679</td>\n",
       "      <td>0.094821</td>\n",
       "      <td>0.096832</td>\n",
       "      <td>(In, Mg, Zr)</td>\n",
       "      <td>0.525510</td>\n",
       "      <td>0.1275</td>\n",
       "      <td>True</td>\n",
       "    </tr>\n",
       "  </tbody>\n",
       "</table>\n",
       "</div>"
      ],
      "text/plain": [
       "              probability_before  probability_after    change  change_abs  \\\n",
       "system                                                                      \n",
       "(In, Mg, Sn)            0.598042           0.489464  0.108578    0.111796   \n",
       "(Al, Mg, Sn)            0.626975           0.524388  0.102587    0.106142   \n",
       "(In, Sn, Ta)            0.825176           0.720404  0.104773    0.104794   \n",
       "(In, Sn, Zr)            0.790527           0.687504  0.103023    0.103427   \n",
       "(Al, In, Mg)            0.602179           0.508720  0.093459    0.099713   \n",
       "(In, Nb, Zr)            0.779124           0.681684  0.097440    0.097538   \n",
       "(In, Mg, Zr)            0.692500           0.597679  0.094821    0.096832   \n",
       "\n",
       "                    system  above_10  change_75p  is_ternary  \n",
       "system                                                        \n",
       "(In, Mg, Sn)  (In, Mg, Sn)  0.621599      0.1525        True  \n",
       "(Al, Mg, Sn)  (Al, Mg, Sn)  0.607993      0.1400        True  \n",
       "(In, Sn, Ta)  (In, Sn, Ta)  0.498299      0.1325        True  \n",
       "(In, Sn, Zr)  (In, Sn, Zr)  0.642857      0.1275        True  \n",
       "(Al, In, Mg)  (Al, In, Mg)  0.516156      0.1450        True  \n",
       "(In, Nb, Zr)  (In, Nb, Zr)  0.505952      0.1225        True  \n",
       "(In, Mg, Zr)  (In, Mg, Zr)  0.525510      0.1275        True  "
      ]
     },
     "execution_count": 20,
     "metadata": {},
     "output_type": "execute_result"
    }
   ],
   "source": [
    "system_freq.head(7)"
   ]
  },
  {
   "cell_type": "markdown",
   "metadata": {},
   "source": [
    "Most of these system that change a lot contain In, which is not surprsing given that there is no In in the training set. These predictions are just unreliable. "
   ]
  },
  {
   "cell_type": "code",
   "execution_count": 21,
   "metadata": {
    "collapsed": true
   },
   "outputs": [],
   "source": [
    "# Training set elements from another sheet\n",
    "training_set_elems = 'Tb Gd Pd B Cr Ag Cu N Fe Mo Yb O Ge F Ru Mn Nb Zr Mg Nd Sm Si Co Al Hf Ni Ta Ti C'.split(\" \")"
   ]
  },
  {
   "cell_type": "code",
   "execution_count": 22,
   "metadata": {
    "collapsed": true
   },
   "outputs": [],
   "source": [
    "system_freq['all_in_training'] = system_freq['system'].apply(lambda e: all(x in training_set_elems for x in e))"
   ]
  },
  {
   "cell_type": "code",
   "execution_count": 23,
   "metadata": {},
   "outputs": [
    {
     "data": {
      "text/html": [
       "<div>\n",
       "<style>\n",
       "    .dataframe thead tr:only-child th {\n",
       "        text-align: right;\n",
       "    }\n",
       "\n",
       "    .dataframe thead th {\n",
       "        text-align: left;\n",
       "    }\n",
       "\n",
       "    .dataframe tbody tr th {\n",
       "        vertical-align: top;\n",
       "    }\n",
       "</style>\n",
       "<table border=\"1\" class=\"dataframe\">\n",
       "  <thead>\n",
       "    <tr style=\"text-align: right;\">\n",
       "      <th></th>\n",
       "      <th>probability_before</th>\n",
       "      <th>probability_after</th>\n",
       "      <th>change</th>\n",
       "      <th>change_abs</th>\n",
       "      <th>system</th>\n",
       "      <th>above_10</th>\n",
       "      <th>change_75p</th>\n",
       "      <th>is_ternary</th>\n",
       "      <th>all_in_training</th>\n",
       "    </tr>\n",
       "    <tr>\n",
       "      <th>system</th>\n",
       "      <th></th>\n",
       "      <th></th>\n",
       "      <th></th>\n",
       "      <th></th>\n",
       "      <th></th>\n",
       "      <th></th>\n",
       "      <th></th>\n",
       "      <th></th>\n",
       "      <th></th>\n",
       "    </tr>\n",
       "  </thead>\n",
       "  <tbody>\n",
       "    <tr>\n",
       "      <th>(Ge, Mg, Si)</th>\n",
       "      <td>0.535227</td>\n",
       "      <td>0.480064</td>\n",
       "      <td>0.055164</td>\n",
       "      <td>0.063591</td>\n",
       "      <td>(Ge, Mg, Si)</td>\n",
       "      <td>0.109694</td>\n",
       "      <td>0.0850</td>\n",
       "      <td>True</td>\n",
       "      <td>True</td>\n",
       "    </tr>\n",
       "    <tr>\n",
       "      <th>(Cr, Fe, Mg)</th>\n",
       "      <td>0.566818</td>\n",
       "      <td>0.618418</td>\n",
       "      <td>-0.051601</td>\n",
       "      <td>0.060108</td>\n",
       "      <td>(Cr, Fe, Mg)</td>\n",
       "      <td>0.210884</td>\n",
       "      <td>0.0775</td>\n",
       "      <td>True</td>\n",
       "      <td>True</td>\n",
       "    </tr>\n",
       "    <tr>\n",
       "      <th>(Cr, Cu, Mg)</th>\n",
       "      <td>0.565974</td>\n",
       "      <td>0.619702</td>\n",
       "      <td>-0.053729</td>\n",
       "      <td>0.057819</td>\n",
       "      <td>(Cr, Cu, Mg)</td>\n",
       "      <td>0.136054</td>\n",
       "      <td>0.0775</td>\n",
       "      <td>True</td>\n",
       "      <td>True</td>\n",
       "    </tr>\n",
       "    <tr>\n",
       "      <th>(Cr, Mg, Mn)</th>\n",
       "      <td>0.515551</td>\n",
       "      <td>0.572066</td>\n",
       "      <td>-0.056516</td>\n",
       "      <td>0.057795</td>\n",
       "      <td>(Cr, Mg, Mn)</td>\n",
       "      <td>0.090986</td>\n",
       "      <td>0.0775</td>\n",
       "      <td>True</td>\n",
       "      <td>True</td>\n",
       "    </tr>\n",
       "    <tr>\n",
       "      <th>(B, Co, Mg)</th>\n",
       "      <td>0.686310</td>\n",
       "      <td>0.668053</td>\n",
       "      <td>0.018257</td>\n",
       "      <td>0.057432</td>\n",
       "      <td>(B, Co, Mg)</td>\n",
       "      <td>0.128401</td>\n",
       "      <td>0.0825</td>\n",
       "      <td>True</td>\n",
       "      <td>True</td>\n",
       "    </tr>\n",
       "  </tbody>\n",
       "</table>\n",
       "</div>"
      ],
      "text/plain": [
       "              probability_before  probability_after    change  change_abs  \\\n",
       "system                                                                      \n",
       "(Ge, Mg, Si)            0.535227           0.480064  0.055164    0.063591   \n",
       "(Cr, Fe, Mg)            0.566818           0.618418 -0.051601    0.060108   \n",
       "(Cr, Cu, Mg)            0.565974           0.619702 -0.053729    0.057819   \n",
       "(Cr, Mg, Mn)            0.515551           0.572066 -0.056516    0.057795   \n",
       "(B, Co, Mg)             0.686310           0.668053  0.018257    0.057432   \n",
       "\n",
       "                    system  above_10  change_75p  is_ternary  all_in_training  \n",
       "system                                                                         \n",
       "(Ge, Mg, Si)  (Ge, Mg, Si)  0.109694      0.0850        True             True  \n",
       "(Cr, Fe, Mg)  (Cr, Fe, Mg)  0.210884      0.0775        True             True  \n",
       "(Cr, Cu, Mg)  (Cr, Cu, Mg)  0.136054      0.0775        True             True  \n",
       "(Cr, Mg, Mn)  (Cr, Mg, Mn)  0.090986      0.0775        True             True  \n",
       "(B, Co, Mg)    (B, Co, Mg)  0.128401      0.0825        True             True  "
      ]
     },
     "execution_count": 23,
     "metadata": {},
     "output_type": "execute_result"
    }
   ],
   "source": [
    "system_freq.query('all_in_training == True').head()"
   ]
  },
  {
   "cell_type": "markdown",
   "metadata": {},
   "source": [
    "*Finding*: Changes are indeed smaller for systems with only elements from the training set"
   ]
  },
  {
   "cell_type": "code",
   "execution_count": 24,
   "metadata": {},
   "outputs": [
    {
     "data": {
      "text/plain": [
       "probability_before       0.905778\n",
       "probability_after        0.906463\n",
       "change               -0.000684524\n",
       "change_abs               0.017551\n",
       "system                (Co, V, Zr)\n",
       "above_10               0.00510204\n",
       "change_75p                 0.0225\n",
       "is_ternary                   True\n",
       "all_in_training             False\n",
       "Name: (Co, V, Zr), dtype: object"
      ]
     },
     "execution_count": 24,
     "metadata": {},
     "output_type": "execute_result"
    }
   ],
   "source": [
    "covzr_score = system_freq[system_freq['system'] == ('Co', 'V', 'Zr')].iloc[0]\n",
    "covzr_score"
   ]
  },
  {
   "cell_type": "code",
   "execution_count": 25,
   "metadata": {},
   "outputs": [
    {
     "name": "stdout",
     "output_type": "stream",
     "text": [
      "99.01% of systems have a larger change than Co-V-Zr\n",
      "97.14% of systems with only elements in training set have a larger change than Co-V-Zr\n"
     ]
    },
    {
     "data": {
      "text/plain": [
       "<matplotlib.text.Text at 0x1d29d1157b8>"
      ]
     },
     "execution_count": 25,
     "metadata": {},
     "output_type": "execute_result"
    },
    {
     "data": {
      "image/png": "[encoded data removed]",
      "text/plain": [
       "<matplotlib.figure.Figure at 0x1d29d0fc940>"
      ]
     },
     "metadata": {},
     "output_type": "display_data"
    }
   ],
   "source": [
    "fig, ax = plt.subplots()\n",
    "\n",
    "system_freq_all_in = system_freq.query('all_in_training == True')\n",
    "print('%.2f%% of systems have a larger change than Co-V-Zr'%(np.mean(\n",
    "    system_freq['change_abs'] > covzr_score['change_abs']) * 100\n",
    "))\n",
    "print('%.2f%% of systems with only elements in training set have a larger change than Co-V-Zr'%(np.mean(\n",
    "    system_freq_all_in['change_abs'] > covzr_score['change_abs']) * 100\n",
    "     ))\n",
    "ax.hist(system_freq['change_abs'] * 100, bins=20)\n",
    "\n",
    "ax.set_ylim(ax.get_ylim())\n",
    "\n",
    "ax.plot([covzr_score['change_abs']*100,]*2, ax.get_ylim(), 'k--')\n",
    "ax.text(covzr_score['change_abs']*100, 50, 'Co-V-Zr', bbox={'facecolor': 'w'})\n",
    "\n",
    "ax.set_xlabel('Mean Change (%)')\n",
    "ax.set_ylabel('Frequency')"
   ]
  },
  {
   "cell_type": "code",
   "execution_count": 26,
   "metadata": {},
   "outputs": [
    {
     "name": "stdout",
     "output_type": "stream",
     "text": [
      "68.08% of systems have a larger change than Co-V-Zr\n",
      "49.11% of systems with only elements in training set have a larger change than Co-V-Zr\n"
     ]
    },
    {
     "data": {
      "text/plain": [
       "<matplotlib.text.Text at 0x1d29d58d550>"
      ]
     },
     "execution_count": 26,
     "metadata": {},
     "output_type": "execute_result"
    },
    {
     "data": {
      "image/png": "[encoded data removed]",
      "text/plain": [
       "<matplotlib.figure.Figure at 0x1d29d0fc630>"
      ]
     },
     "metadata": {},
     "output_type": "display_data"
    }
   ],
   "source": [
    "fig, ax = plt.subplots()\n",
    "\n",
    "system_freq_all_in = system_freq.query('all_in_training == True')\n",
    "print('%.2f%% of systems have a larger change than Co-V-Zr'%(np.mean(\n",
    "    system_freq['above_10'] > covzr_score['above_10']) * 100\n",
    "))\n",
    "print('%.2f%% of systems with only elements in training set have a larger change than Co-V-Zr'%(np.mean(\n",
    "    system_freq_all_in['above_10'] > covzr_score['above_10']) * 100\n",
    "     ))\n",
    "ax.hist(system_freq['above_10'] * 100, bins=20)\n",
    "\n",
    "ax.set_ylim(ax.get_ylim())\n",
    "\n",
    "ax.plot([covzr_score['above_10']*100,]*2, ax.get_ylim(), 'k--')\n",
    "ax.text(covzr_score['above_10']*100, 50, 'Co-V-Zr', bbox={'facecolor': 'w'})\n",
    "\n",
    "ax.set_xlabel('Alloys with Change > 10% (%)')\n",
    "ax.set_ylabel('Frequency')"
   ]
  },
  {
   "cell_type": "markdown",
   "metadata": {},
   "source": [
    "*Finding*: Co-V-Zr is not a typical system for its mean change"
   ]
  },
  {
   "cell_type": "code",
   "execution_count": null,
   "metadata": {
    "collapsed": true
   },
   "outputs": [],
   "source": []
  }
 ],
 "metadata": {
  "kernelspec": {
   "display_name": "Python 3",
   "language": "python",
   "name": "python3"
  },
  "language_info": {
   "codemirror_mode": {
    "name": "ipython",
    "version": 3
   },
   "file_extension": ".py",
   "mimetype": "text/x-python",
   "name": "python",
   "nbconvert_exporter": "python",
   "pygments_lexer": "ipython3",
   "version": "3.6.0"
  }
 },
 "nbformat": 4,
 "nbformat_minor": 2
}
