{
 "cells": [
  {
   "cell_type": "markdown",
   "metadata": {},
   "source": [
    "# Change on Adding Theories\n",
    "Study how much predictions change on adding Phyisochemical Theories (PCTs)."
   ]
  },
  {
   "cell_type": "code",
   "execution_count": 1,
   "metadata": {
    "collapsed": true
   },
   "outputs": [],
   "source": [
    "%matplotlib inline\n",
    "from matplotlib import pyplot as plt\n",
    "from tqdm import tqdm_notebook as tqdm\n",
    "import pandas as pd\n",
    "import numpy as np\n",
    "import json\n",
    "import gzip\n",
    "import os\n",
    "import re"
   ]
  },
  {
   "cell_type": "markdown",
   "metadata": {},
   "source": [
    "## Load in the datasets\n",
    "We use 2 datasets, the results from a search for new glasses before and after adding the theories"
   ]
  },
  {
   "cell_type": "code",
   "execution_count": 2,
   "metadata": {},
   "outputs": [],
   "source": [
    "def load_data(path, prefix):\n",
    "    \"\"\"Load in the composition and liklihood of forming a glass\n",
    "    \n",
    "    :param path: str, path to dataset\"\"\"\n",
    "    \n",
    "    with gzip.open(path, 'rt') as fp:\n",
    "        temp = json.load(fp)\n",
    "    \n",
    "    return pd.DataFrame({\n",
    "        'composition': [e['composition'] for e in temp['entries']],\n",
    "        'probability_%s'%prefix: [e['class']['probabilities'][0] for e in temp['entries']]\n",
    "    })\n",
    "before = load_data(os.path.join('..', '2_with-processing-method', 'new-glasses.json.gz'), 'before')"
   ]
  },
  {
   "cell_type": "code",
   "execution_count": 3,
   "metadata": {
    "collapsed": true
   },
   "outputs": [],
   "source": [
    "after = load_data('new-glasses.json.gz', 'after')"
   ]
  },
  {
   "cell_type": "markdown",
   "metadata": {},
   "source": [
    "## Measure change in predictions\n",
    "We want to see how the addition of theories changes individual predictions"
   ]
  },
  {
   "cell_type": "code",
   "execution_count": 4,
   "metadata": {},
   "outputs": [],
   "source": [
    "data = before.merge(after, on='composition', copy=False)\n",
    "del before, after"
   ]
  },
  {
   "cell_type": "code",
   "execution_count": 5,
   "metadata": {},
   "outputs": [
    {
     "data": {
      "text/html": [
       "<div>\n",
       "<table border=\"1\" class=\"dataframe\">\n",
       "  <thead>\n",
       "    <tr style=\"text-align: right;\">\n",
       "      <th></th>\n",
       "      <th>composition</th>\n",
       "      <th>probability_before</th>\n",
       "      <th>probability_after</th>\n",
       "    </tr>\n",
       "  </thead>\n",
       "  <tbody>\n",
       "    <tr>\n",
       "      <th>0</th>\n",
       "      <td>Al</td>\n",
       "      <td>0.055</td>\n",
       "      <td>0.066970</td>\n",
       "    </tr>\n",
       "    <tr>\n",
       "      <th>1</th>\n",
       "      <td>B</td>\n",
       "      <td>0.160</td>\n",
       "      <td>0.159906</td>\n",
       "    </tr>\n",
       "    <tr>\n",
       "      <th>2</th>\n",
       "      <td>Ba</td>\n",
       "      <td>0.095</td>\n",
       "      <td>0.128562</td>\n",
       "    </tr>\n",
       "    <tr>\n",
       "      <th>3</th>\n",
       "      <td>Ca</td>\n",
       "      <td>0.040</td>\n",
       "      <td>0.060000</td>\n",
       "    </tr>\n",
       "    <tr>\n",
       "      <th>4</th>\n",
       "      <td>Co</td>\n",
       "      <td>0.060</td>\n",
       "      <td>0.070000</td>\n",
       "    </tr>\n",
       "  </tbody>\n",
       "</table>\n",
       "</div>"
      ],
      "text/plain": [
       "  composition  probability_before  probability_after\n",
       "0          Al               0.055           0.066970\n",
       "1           B               0.160           0.159906\n",
       "2          Ba               0.095           0.128562\n",
       "3          Ca               0.040           0.060000\n",
       "4          Co               0.060           0.070000"
      ]
     },
     "execution_count": 5,
     "metadata": {},
     "output_type": "execute_result"
    }
   ],
   "source": [
    "data.head()"
   ]
  },
  {
   "cell_type": "code",
   "execution_count": 6,
   "metadata": {
    "collapsed": true
   },
   "outputs": [],
   "source": [
    "data['change'] = data['probability_before'] - data['probability_after']"
   ]
  },
  {
   "cell_type": "code",
   "execution_count": 7,
   "metadata": {
    "collapsed": true
   },
   "outputs": [],
   "source": [
    "data['change_abs'] = data['change'].apply(abs)"
   ]
  },
  {
   "cell_type": "markdown",
   "metadata": {},
   "source": [
    "Make a histogram"
   ]
  },
  {
   "cell_type": "code",
   "execution_count": 8,
   "metadata": {},
   "outputs": [
    {
     "data": {
      "text/plain": [
       "<matplotlib.text.Text at 0x7fc7fd79dac8>"
      ]
     },
     "execution_count": 8,
     "metadata": {},
     "output_type": "execute_result"
    },
    {
     "data": {
      "image/png": "[encoded data removed]",
      "text/plain": [
       "<matplotlib.figure.Figure at 0x7fc8cbe4d048>"
      ]
     },
     "metadata": {},
     "output_type": "display_data"
    }
   ],
   "source": [
    "fig, ax = plt.subplots()\n",
    "\n",
    "ax.hist(data['change'] * 100, bins=50)\n",
    "\n",
    "ax.set_xlabel('Change (%)')\n",
    "ax.set_ylabel('Frequency')"
   ]
  },
  {
   "cell_type": "code",
   "execution_count": 9,
   "metadata": {},
   "outputs": [
    {
     "name": "stdout",
     "output_type": "stream",
     "text": [
      "Fraction predictions with >10% change: 6.04%\n"
     ]
    }
   ],
   "source": [
    "print('Fraction predictions with >10%% change: %.2f%%'%(np.mean(data['change_abs'] > 0.1) * 100))"
   ]
  },
  {
   "cell_type": "markdown",
   "metadata": {},
   "source": [
    "*Finding*: Some entries change quite signifcantly."
   ]
  },
  {
   "cell_type": "markdown",
   "metadata": {},
   "source": [
    "Check whether only the entries with probabilities close to the mean of the training set change. This would imply the changes are due to "
   ]
  },
  {
   "cell_type": "code",
   "execution_count": 10,
   "metadata": {},
   "outputs": [
    {
     "data": {
      "text/plain": [
       "<matplotlib.text.Text at 0x7fc860d7dac8>"
      ]
     },
     "execution_count": 10,
     "metadata": {},
     "output_type": "execute_result"
    },
    {
     "data": {
      "image/png": "[encoded data removed]",
      "text/plain": [
       "<matplotlib.figure.Figure at 0x7fc8f16b19b0>"
      ]
     },
     "metadata": {},
     "output_type": "display_data"
    }
   ],
   "source": [
    "fig, ax = plt.subplots()\n",
    "\n",
    "ax.hist2d(data['change'], data['probability_before'], cmap='Blues', bins=50)\n",
    "\n",
    "ax.set_xlabel('Change')\n",
    "ax.set_ylabel('Probability')"
   ]
  },
  {
   "cell_type": "markdown",
   "metadata": {},
   "source": [
    "*Finding*: The changes are actually skewed to positive changes, which is less suggestive of the changes being due to the randomness"
   ]
  },
  {
   "cell_type": "markdown",
   "metadata": {},
   "source": [
    "## Where are the changes localized\n",
    "Which composition? Any particular systems"
   ]
  },
  {
   "cell_type": "code",
   "execution_count": 11,
   "metadata": {},
   "outputs": [
    {
     "data": {
      "text/html": [
       "<div>\n",
       "<table border=\"1\" class=\"dataframe\">\n",
       "  <thead>\n",
       "    <tr style=\"text-align: right;\">\n",
       "      <th></th>\n",
       "      <th>composition</th>\n",
       "      <th>probability_before</th>\n",
       "      <th>probability_after</th>\n",
       "      <th>change</th>\n",
       "      <th>change_abs</th>\n",
       "    </tr>\n",
       "  </thead>\n",
       "  <tbody>\n",
       "    <tr>\n",
       "      <th>1740176</th>\n",
       "      <td>Mg0.68Al0.16In0.16</td>\n",
       "      <td>0.675</td>\n",
       "      <td>0.415</td>\n",
       "      <td>0.260</td>\n",
       "      <td>0.260</td>\n",
       "    </tr>\n",
       "    <tr>\n",
       "      <th>2122307</th>\n",
       "      <td>Ca0.8Zr0.14B0.06</td>\n",
       "      <td>0.430</td>\n",
       "      <td>0.690</td>\n",
       "      <td>-0.260</td>\n",
       "      <td>0.260</td>\n",
       "    </tr>\n",
       "    <tr>\n",
       "      <th>1657192</th>\n",
       "      <td>Mg0.66Al0.18In0.16</td>\n",
       "      <td>0.710</td>\n",
       "      <td>0.450</td>\n",
       "      <td>0.260</td>\n",
       "      <td>0.260</td>\n",
       "    </tr>\n",
       "    <tr>\n",
       "      <th>1072233</th>\n",
       "      <td>Ca0.34Mg0.56Cr0.1</td>\n",
       "      <td>0.425</td>\n",
       "      <td>0.680</td>\n",
       "      <td>-0.255</td>\n",
       "      <td>0.255</td>\n",
       "    </tr>\n",
       "    <tr>\n",
       "      <th>2345327</th>\n",
       "      <td>Mg0.5Cr0.48B0.02</td>\n",
       "      <td>0.495</td>\n",
       "      <td>0.750</td>\n",
       "      <td>-0.255</td>\n",
       "      <td>0.255</td>\n",
       "    </tr>\n",
       "  </tbody>\n",
       "</table>\n",
       "</div>"
      ],
      "text/plain": [
       "                composition  probability_before  probability_after  change  \\\n",
       "1740176  Mg0.68Al0.16In0.16               0.675              0.415   0.260   \n",
       "2122307    Ca0.8Zr0.14B0.06               0.430              0.690  -0.260   \n",
       "1657192  Mg0.66Al0.18In0.16               0.710              0.450   0.260   \n",
       "1072233   Ca0.34Mg0.56Cr0.1               0.425              0.680  -0.255   \n",
       "2345327    Mg0.5Cr0.48B0.02               0.495              0.750  -0.255   \n",
       "\n",
       "         change_abs  \n",
       "1740176       0.260  \n",
       "2122307       0.260  \n",
       "1657192       0.260  \n",
       "1072233       0.255  \n",
       "2345327       0.255  "
      ]
     },
     "execution_count": 11,
     "metadata": {},
     "output_type": "execute_result"
    }
   ],
   "source": [
    "data.sort_values('change_abs', ascending=False)[:5]"
   ]
  },
  {
   "cell_type": "markdown",
   "metadata": {},
   "source": [
    "*Finding*: The largest changes are those with Mg and Ca"
   ]
  },
  {
   "cell_type": "markdown",
   "metadata": {},
   "source": [
    "Compute the systems with the largest average change"
   ]
  },
  {
   "cell_type": "code",
   "execution_count": 12,
   "metadata": {
    "collapsed": true
   },
   "outputs": [],
   "source": [
    "elem_re = re.compile('[A-Z][a-z]?')\n",
    "data['system'] = data['composition'].apply(lambda x: tuple(sorted(elem_re.findall(x))))"
   ]
  },
  {
   "cell_type": "code",
   "execution_count": 13,
   "metadata": {},
   "outputs": [],
   "source": [
    "system_freq = data.groupby('system').mean()"
   ]
  },
  {
   "cell_type": "code",
   "execution_count": 14,
   "metadata": {
    "collapsed": true
   },
   "outputs": [],
   "source": [
    "system_freq['system'] = system_freq.index"
   ]
  },
  {
   "cell_type": "code",
   "execution_count": 15,
   "metadata": {},
   "outputs": [],
   "source": [
    "system_freq['above_10'] = data.groupby('system').apply(lambda x: sum(x['change_abs'] > 0.1) / len(x))"
   ]
  },
  {
   "cell_type": "code",
   "execution_count": 16,
   "metadata": {},
   "outputs": [],
   "source": [
    "system_freq['change_75p'] = data.groupby('system').apply(lambda x: np.percentile(x['change_abs'], 75))"
   ]
  },
  {
   "cell_type": "markdown",
   "metadata": {},
   "source": [
    "Get only the ternaries"
   ]
  },
  {
   "cell_type": "code",
   "execution_count": 17,
   "metadata": {},
   "outputs": [],
   "source": [
    "system_freq['is_ternary'] = system_freq['system'].apply(len) == 3\n",
    "system_freq = system_freq.query('is_ternary == True')"
   ]
  },
  {
   "cell_type": "code",
   "execution_count": 18,
   "metadata": {},
   "outputs": [
    {
     "name": "stdout",
     "output_type": "stream",
     "text": [
      "Average change for all ternaries 4.06%\n"
     ]
    }
   ],
   "source": [
    "print('Average change for all ternaries %.2f%%'%(system_freq['change_abs'].mean() * 100))"
   ]
  },
  {
   "cell_type": "markdown",
   "metadata": {},
   "source": [
    "Get the ternaries that change the most"
   ]
  },
  {
   "cell_type": "code",
   "execution_count": 19,
   "metadata": {},
   "outputs": [],
   "source": [
    "system_freq.sort_values('change_abs', ascending=False, inplace=True)"
   ]
  },
  {
   "cell_type": "code",
   "execution_count": 20,
   "metadata": {},
   "outputs": [
    {
     "data": {
      "text/html": [
       "<div>\n",
       "<table border=\"1\" class=\"dataframe\">\n",
       "  <thead>\n",
       "    <tr style=\"text-align: right;\">\n",
       "      <th></th>\n",
       "      <th>probability_before</th>\n",
       "      <th>probability_after</th>\n",
       "      <th>change</th>\n",
       "      <th>change_abs</th>\n",
       "      <th>system</th>\n",
       "      <th>above_10</th>\n",
       "      <th>change_75p</th>\n",
       "      <th>is_ternary</th>\n",
       "    </tr>\n",
       "    <tr>\n",
       "      <th>system</th>\n",
       "      <th></th>\n",
       "      <th></th>\n",
       "      <th></th>\n",
       "      <th></th>\n",
       "      <th></th>\n",
       "      <th></th>\n",
       "      <th></th>\n",
       "      <th></th>\n",
       "    </tr>\n",
       "  </thead>\n",
       "  <tbody>\n",
       "    <tr>\n",
       "      <th>(In, Sn, Ta)</th>\n",
       "      <td>0.836756</td>\n",
       "      <td>0.720404</td>\n",
       "      <td>0.116352</td>\n",
       "      <td>0.116981</td>\n",
       "      <td>(In, Sn, Ta)</td>\n",
       "      <td>0.666667</td>\n",
       "      <td>0.145</td>\n",
       "      <td>True</td>\n",
       "    </tr>\n",
       "    <tr>\n",
       "      <th>(In, Sn, Zr)</th>\n",
       "      <td>0.793002</td>\n",
       "      <td>0.687504</td>\n",
       "      <td>0.105497</td>\n",
       "      <td>0.106484</td>\n",
       "      <td>(In, Sn, Zr)</td>\n",
       "      <td>0.659014</td>\n",
       "      <td>0.135</td>\n",
       "      <td>True</td>\n",
       "    </tr>\n",
       "    <tr>\n",
       "      <th>(Al, Mg, Sn)</th>\n",
       "      <td>0.624715</td>\n",
       "      <td>0.524388</td>\n",
       "      <td>0.100327</td>\n",
       "      <td>0.105872</td>\n",
       "      <td>(Al, Mg, Sn)</td>\n",
       "      <td>0.576531</td>\n",
       "      <td>0.140</td>\n",
       "      <td>True</td>\n",
       "    </tr>\n",
       "    <tr>\n",
       "      <th>(Sn, Ta, Zn)</th>\n",
       "      <td>0.876684</td>\n",
       "      <td>0.771913</td>\n",
       "      <td>0.104770</td>\n",
       "      <td>0.105612</td>\n",
       "      <td>(Sn, Ta, Zn)</td>\n",
       "      <td>0.556973</td>\n",
       "      <td>0.125</td>\n",
       "      <td>True</td>\n",
       "    </tr>\n",
       "    <tr>\n",
       "      <th>(In, Mg, Sn)</th>\n",
       "      <td>0.587606</td>\n",
       "      <td>0.489464</td>\n",
       "      <td>0.098142</td>\n",
       "      <td>0.104817</td>\n",
       "      <td>(In, Mg, Sn)</td>\n",
       "      <td>0.532313</td>\n",
       "      <td>0.150</td>\n",
       "      <td>True</td>\n",
       "    </tr>\n",
       "    <tr>\n",
       "      <th>(Al, In, Mg)</th>\n",
       "      <td>0.602883</td>\n",
       "      <td>0.508720</td>\n",
       "      <td>0.094162</td>\n",
       "      <td>0.103278</td>\n",
       "      <td>(Al, In, Mg)</td>\n",
       "      <td>0.533163</td>\n",
       "      <td>0.150</td>\n",
       "      <td>True</td>\n",
       "    </tr>\n",
       "    <tr>\n",
       "      <th>(In, Ta, Zr)</th>\n",
       "      <td>0.829349</td>\n",
       "      <td>0.729868</td>\n",
       "      <td>0.099481</td>\n",
       "      <td>0.100187</td>\n",
       "      <td>(In, Ta, Zr)</td>\n",
       "      <td>0.497449</td>\n",
       "      <td>0.125</td>\n",
       "      <td>True</td>\n",
       "    </tr>\n",
       "  </tbody>\n",
       "</table>\n",
       "</div>"
      ],
      "text/plain": [
       "              probability_before  probability_after    change  change_abs  \\\n",
       "system                                                                      \n",
       "(In, Sn, Ta)            0.836756           0.720404  0.116352    0.116981   \n",
       "(In, Sn, Zr)            0.793002           0.687504  0.105497    0.106484   \n",
       "(Al, Mg, Sn)            0.624715           0.524388  0.100327    0.105872   \n",
       "(Sn, Ta, Zn)            0.876684           0.771913  0.104770    0.105612   \n",
       "(In, Mg, Sn)            0.587606           0.489464  0.098142    0.104817   \n",
       "(Al, In, Mg)            0.602883           0.508720  0.094162    0.103278   \n",
       "(In, Ta, Zr)            0.829349           0.729868  0.099481    0.100187   \n",
       "\n",
       "                    system  above_10  change_75p is_ternary  \n",
       "system                                                       \n",
       "(In, Sn, Ta)  (In, Sn, Ta)  0.666667       0.145       True  \n",
       "(In, Sn, Zr)  (In, Sn, Zr)  0.659014       0.135       True  \n",
       "(Al, Mg, Sn)  (Al, Mg, Sn)  0.576531       0.140       True  \n",
       "(Sn, Ta, Zn)  (Sn, Ta, Zn)  0.556973       0.125       True  \n",
       "(In, Mg, Sn)  (In, Mg, Sn)  0.532313       0.150       True  \n",
       "(Al, In, Mg)  (Al, In, Mg)  0.533163       0.150       True  \n",
       "(In, Ta, Zr)  (In, Ta, Zr)  0.497449       0.125       True  "
      ]
     },
     "execution_count": 20,
     "metadata": {},
     "output_type": "execute_result"
    }
   ],
   "source": [
    "system_freq.head(7)"
   ]
  },
  {
   "cell_type": "markdown",
   "metadata": {},
   "source": [
    "Most of these system that change a lot contain In, which is not surprsing given that there is no In in the training set. These predictions are just unreliable. "
   ]
  },
  {
   "cell_type": "code",
   "execution_count": 21,
   "metadata": {
    "collapsed": true
   },
   "outputs": [],
   "source": [
    "# Training set elements from another sheet\n",
    "training_set_elems = 'Tb Gd Pd B Cr Ag Cu N Fe Mo Yb O Ge F Ru Mn Nb Zr Mg Nd Sm Si Co Al Hf Ni Ta Ti C'.split(\" \")"
   ]
  },
  {
   "cell_type": "code",
   "execution_count": 22,
   "metadata": {
    "collapsed": true
   },
   "outputs": [],
   "source": [
    "system_freq['all_in_training'] = system_freq['system'].apply(lambda e: all(x in training_set_elems for x in e))"
   ]
  },
  {
   "cell_type": "code",
   "execution_count": 23,
   "metadata": {},
   "outputs": [
    {
     "data": {
      "text/html": [
       "<div>\n",
       "<table border=\"1\" class=\"dataframe\">\n",
       "  <thead>\n",
       "    <tr style=\"text-align: right;\">\n",
       "      <th></th>\n",
       "      <th>probability_before</th>\n",
       "      <th>probability_after</th>\n",
       "      <th>change</th>\n",
       "      <th>change_abs</th>\n",
       "      <th>system</th>\n",
       "      <th>above_10</th>\n",
       "      <th>change_75p</th>\n",
       "      <th>is_ternary</th>\n",
       "      <th>all_in_training</th>\n",
       "    </tr>\n",
       "    <tr>\n",
       "      <th>system</th>\n",
       "      <th></th>\n",
       "      <th></th>\n",
       "      <th></th>\n",
       "      <th></th>\n",
       "      <th></th>\n",
       "      <th></th>\n",
       "      <th></th>\n",
       "      <th></th>\n",
       "      <th></th>\n",
       "    </tr>\n",
       "  </thead>\n",
       "  <tbody>\n",
       "    <tr>\n",
       "      <th>(Ge, Mg, Si)</th>\n",
       "      <td>0.540510</td>\n",
       "      <td>0.480064</td>\n",
       "      <td>0.060446</td>\n",
       "      <td>0.068992</td>\n",
       "      <td>(Ge, Mg, Si)</td>\n",
       "      <td>0.147109</td>\n",
       "      <td>0.090</td>\n",
       "      <td>True</td>\n",
       "      <td>True</td>\n",
       "    </tr>\n",
       "    <tr>\n",
       "      <th>(Co, Mg, Mn)</th>\n",
       "      <td>0.576986</td>\n",
       "      <td>0.572032</td>\n",
       "      <td>0.004953</td>\n",
       "      <td>0.066781</td>\n",
       "      <td>(Co, Mg, Mn)</td>\n",
       "      <td>0.204932</td>\n",
       "      <td>0.095</td>\n",
       "      <td>True</td>\n",
       "      <td>True</td>\n",
       "    </tr>\n",
       "    <tr>\n",
       "      <th>(B, Co, Mg)</th>\n",
       "      <td>0.691165</td>\n",
       "      <td>0.668053</td>\n",
       "      <td>0.023112</td>\n",
       "      <td>0.065221</td>\n",
       "      <td>(B, Co, Mg)</td>\n",
       "      <td>0.204082</td>\n",
       "      <td>0.095</td>\n",
       "      <td>True</td>\n",
       "      <td>True</td>\n",
       "    </tr>\n",
       "    <tr>\n",
       "      <th>(Al, Fe, Ni)</th>\n",
       "      <td>0.308227</td>\n",
       "      <td>0.364855</td>\n",
       "      <td>-0.056628</td>\n",
       "      <td>0.062470</td>\n",
       "      <td>(Al, Fe, Ni)</td>\n",
       "      <td>0.174320</td>\n",
       "      <td>0.090</td>\n",
       "      <td>True</td>\n",
       "      <td>True</td>\n",
       "    </tr>\n",
       "    <tr>\n",
       "      <th>(Al, Ni, Si)</th>\n",
       "      <td>0.416233</td>\n",
       "      <td>0.463321</td>\n",
       "      <td>-0.047088</td>\n",
       "      <td>0.062326</td>\n",
       "      <td>(Al, Ni, Si)</td>\n",
       "      <td>0.253401</td>\n",
       "      <td>0.100</td>\n",
       "      <td>True</td>\n",
       "      <td>True</td>\n",
       "    </tr>\n",
       "  </tbody>\n",
       "</table>\n",
       "</div>"
      ],
      "text/plain": [
       "              probability_before  probability_after    change  change_abs  \\\n",
       "system                                                                      \n",
       "(Ge, Mg, Si)            0.540510           0.480064  0.060446    0.068992   \n",
       "(Co, Mg, Mn)            0.576986           0.572032  0.004953    0.066781   \n",
       "(B, Co, Mg)             0.691165           0.668053  0.023112    0.065221   \n",
       "(Al, Fe, Ni)            0.308227           0.364855 -0.056628    0.062470   \n",
       "(Al, Ni, Si)            0.416233           0.463321 -0.047088    0.062326   \n",
       "\n",
       "                    system  above_10  change_75p is_ternary all_in_training  \n",
       "system                                                                       \n",
       "(Ge, Mg, Si)  (Ge, Mg, Si)  0.147109       0.090       True            True  \n",
       "(Co, Mg, Mn)  (Co, Mg, Mn)  0.204932       0.095       True            True  \n",
       "(B, Co, Mg)    (B, Co, Mg)  0.204082       0.095       True            True  \n",
       "(Al, Fe, Ni)  (Al, Fe, Ni)  0.174320       0.090       True            True  \n",
       "(Al, Ni, Si)  (Al, Ni, Si)  0.253401       0.100       True            True  "
      ]
     },
     "execution_count": 23,
     "metadata": {},
     "output_type": "execute_result"
    }
   ],
   "source": [
    "system_freq.query('all_in_training == True').head()"
   ]
  },
  {
   "cell_type": "markdown",
   "metadata": {},
   "source": [
    "*Finding*: Changes are indeed smaller for systems with only elements from the training set"
   ]
  },
  {
   "cell_type": "code",
   "execution_count": 24,
   "metadata": {},
   "outputs": [
    {
     "data": {
      "text/plain": [
       "probability_before        0.90753\n",
       "probability_after        0.906463\n",
       "change                 0.00106718\n",
       "change_abs              0.0196386\n",
       "system                (Co, V, Zr)\n",
       "above_10                0.0042517\n",
       "change_75p                  0.025\n",
       "is_ternary                   True\n",
       "all_in_training             False\n",
       "Name: (Co, V, Zr), dtype: object"
      ]
     },
     "execution_count": 24,
     "metadata": {},
     "output_type": "execute_result"
    }
   ],
   "source": [
    "covzr_score = system_freq[system_freq['system'] == ('Co', 'V', 'Zr')].iloc[0]\n",
    "covzr_score"
   ]
  },
  {
   "cell_type": "code",
   "execution_count": 25,
   "metadata": {},
   "outputs": [
    {
     "name": "stdout",
     "output_type": "stream",
     "text": [
      "98.57% of systems have a larger change than Co-V-Zr\n",
      "96.25% of systems with only elements in training set have a larger change than Co-V-Zr\n"
     ]
    },
    {
     "data": {
      "text/plain": [
       "<matplotlib.text.Text at 0x7fc869a24978>"
      ]
     },
     "execution_count": 25,
     "metadata": {},
     "output_type": "execute_result"
    },
    {
     "data": {
      "image/png": "[encoded data removed]",
      "text/plain": [
       "<matplotlib.figure.Figure at 0x7fc8699f5f60>"
      ]
     },
     "metadata": {},
     "output_type": "display_data"
    }
   ],
   "source": [
    "fig, ax = plt.subplots()\n",
    "\n",
    "system_freq_all_in = system_freq.query('all_in_training == True')\n",
    "print('%.2f%% of systems have a larger change than Co-V-Zr'%(np.mean(\n",
    "    system_freq['change_abs'] > covzr_score['change_abs']) * 100\n",
    "))\n",
    "print('%.2f%% of systems with only elements in training set have a larger change than Co-V-Zr'%(np.mean(\n",
    "    system_freq_all_in['change_abs'] > covzr_score['change_abs']) * 100\n",
    "     ))\n",
    "ax.hist(system_freq['change_abs'] * 100, bins=20)\n",
    "\n",
    "ax.set_ylim(ax.get_ylim())\n",
    "\n",
    "ax.plot([covzr_score['change_abs']*100,]*2, ax.get_ylim(), 'k--')\n",
    "ax.text(covzr_score['change_abs']*100, 50, 'Co-V-Zr', bbox={'facecolor': 'w'})\n",
    "\n",
    "ax.set_xlabel('Mean Change (%)')\n",
    "ax.set_ylabel('Frequency')"
   ]
  },
  {
   "cell_type": "code",
   "execution_count": 26,
   "metadata": {},
   "outputs": [
    {
     "name": "stdout",
     "output_type": "stream",
     "text": [
      "84.93% of systems have a larger change than Co-V-Zr\n",
      "73.75% of systems with only elements in training set have a larger change than Co-V-Zr\n"
     ]
    },
    {
     "data": {
      "text/plain": [
       "<matplotlib.text.Text at 0x7fc8693e3eb8>"
      ]
     },
     "execution_count": 26,
     "metadata": {},
     "output_type": "execute_result"
    },
    {
     "data": {
      "image/png": "[encoded data removed]",
      "text/plain": [
       "<matplotlib.figure.Figure at 0x7fc8699f5898>"
      ]
     },
     "metadata": {},
     "output_type": "display_data"
    }
   ],
   "source": [
    "fig, ax = plt.subplots()\n",
    "\n",
    "system_freq_all_in = system_freq.query('all_in_training == True')\n",
    "print('%.2f%% of systems have a larger change than Co-V-Zr'%(np.mean(\n",
    "    system_freq['above_10'] > covzr_score['above_10']) * 100\n",
    "))\n",
    "print('%.2f%% of systems with only elements in training set have a larger change than Co-V-Zr'%(np.mean(\n",
    "    system_freq_all_in['above_10'] > covzr_score['above_10']) * 100\n",
    "     ))\n",
    "ax.hist(system_freq['above_10'] * 100, bins=20)\n",
    "\n",
    "ax.set_ylim(ax.get_ylim())\n",
    "\n",
    "ax.plot([covzr_score['above_10']*100,]*2, ax.get_ylim(), 'k--')\n",
    "ax.text(covzr_score['above_10']*100, 50, 'Co-V-Zr', bbox={'facecolor': 'w'})\n",
    "\n",
    "ax.set_xlabel('Alloys with Change > 10% (%)')\n",
    "ax.set_ylabel('Frequency')"
   ]
  },
  {
   "cell_type": "markdown",
   "metadata": {},
   "source": [
    "*Finding*: Co-V-Zr is not a typical system for its mean change"
   ]
  },
  {
   "cell_type": "code",
   "execution_count": 27,
   "metadata": {
    "collapsed": true
   },
   "outputs": [],
   "source": []
  }
 ],
 "metadata": {
  "kernelspec": {
   "display_name": "Python 3",
   "language": "python",
   "name": "python3"
  },
  "language_info": {
   "codemirror_mode": {
    "name": "ipython",
    "version": 3
   },
   "file_extension": ".py",
   "mimetype": "text/x-python",
   "name": "python",
   "nbconvert_exporter": "python",
   "pygments_lexer": "ipython3",
   "version": "3.6.0"
  }
 },
 "nbformat": 4,
 "nbformat_minor": 2
}
