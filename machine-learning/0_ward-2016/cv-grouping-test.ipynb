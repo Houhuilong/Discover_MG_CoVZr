{
 "cells": [
  {
   "cell_type": "markdown",
   "metadata": {},
   "source": [
    "# Plot Grouping CV Test Results\n",
    "Make an ROC curve from the grouping cross-validation results"
   ]
  },
  {
   "cell_type": "code",
   "execution_count": 10,
   "metadata": {
    "collapsed": true
   },
   "outputs": [],
   "source": [
    "%matplotlib inline\n",
    "from matplotlib import pyplot as plt\n",
    "from sklearn import metrics\n",
    "import pandas as pd\n",
    "import json"
   ]
  },
  {
   "cell_type": "markdown",
   "metadata": {},
   "source": [
    "## Load in the Data\n",
    "It is in a JSON file, turn that into a DataFrame"
   ]
  },
  {
   "cell_type": "code",
   "execution_count": 11,
   "metadata": {},
   "outputs": [],
   "source": [
    "def read_cv_data(filename):\n",
    "    \"\"\"Read the CV results for a certain test\n",
    "\n",
    "    :param d: Name of test directory\"\"\"\n",
    "\n",
    "    json_data = json.load(open(filename))\n",
    "\n",
    "    # Get a few different stats\n",
    "    composition = [e['composition'] for e in json_data['entries']]\n",
    "    gfa_meas = [e['properties'][0]['measured'] for e in json_data['entries']]\n",
    "    gfa_pred = [e['properties'][0]['predicted'] for e in json_data['entries']]\n",
    "    gfa_am_prob = [e['properties'][0]['probabilities'][0] for e in json_data['entries']]\n",
    "\n",
    "    # Return as a data frame\n",
    "    return pd.DataFrame(list(zip(composition,gfa_meas,gfa_pred,gfa_am_prob)),\n",
    "        columns=['composition','gfa_measured','gfa_predicted','gfa_prob_am'])"
   ]
  },
  {
   "cell_type": "code",
   "execution_count": 12,
   "metadata": {},
   "outputs": [],
   "source": [
    "cv_data = read_cv_data('cv-data-grouping.json')"
   ]
  },
  {
   "cell_type": "markdown",
   "metadata": {},
   "source": [
    "## Make an ROC Plot"
   ]
  },
  {
   "cell_type": "code",
   "execution_count": 13,
   "metadata": {},
   "outputs": [],
   "source": [
    "fpr, tpr, thr = metrics.roc_curve(cv_data['gfa_measured'], cv_data['gfa_prob_am'], pos_label=0)"
   ]
  },
  {
   "cell_type": "code",
   "execution_count": 14,
   "metadata": {},
   "outputs": [
    {
     "name": "stdout",
     "output_type": "stream",
     "text": [
      "0.882577257655\n"
     ]
    }
   ],
   "source": [
    "print metrics.roc_auc_score(cv_data['gfa_measured'], 1.0 - cv_data['gfa_prob_am'])"
   ]
  },
  {
   "cell_type": "markdown",
   "metadata": {},
   "source": [
    "Save data to csv format"
   ]
  },
  {
   "cell_type": "code",
   "execution_count": 15,
   "metadata": {
    "collapsed": true
   },
   "outputs": [],
   "source": [
    "pd.DataFrame({'fpr':fpr.tolist(), 'tpr':tpr.tolist()}).to_csv('cv-roc-grouping.csv', index=False)"
   ]
  },
  {
   "cell_type": "code",
   "execution_count": 33,
   "metadata": {},
   "outputs": [
    {
     "data": {
      "image/png": "[encoded data removed]",
      "text/plain": [
       "<matplotlib.figure.Figure at 0x7f6191f20fd0>"
      ]
     },
     "metadata": {},
     "output_type": "display_data"
    }
   ],
   "source": [
    "fig, ax = plt.subplots()\n",
    "\n",
    "plot_data = ax.scatter(fpr, tpr, c=thr, cmap='coolwarm', vmin=0, vmax=1, s=1)\n",
    "\n",
    "ax.plot([0,1],[0,1], 'k--')\n",
    "\n",
    "ax.set_xticks([0,0.5,1])\n",
    "ax.set_xlim(-0.02, 1.02)\n",
    "ax.set_ylim(ax.get_xlim())\n",
    "\n",
    "ax.set_xlabel('FPR')\n",
    "ax.set_ylabel('TPR')\n",
    "\n",
    "fig.colorbar(plot_data, label='GFL')\n",
    "\n",
    "fig.set_size_inches(2.5, 2)\n",
    "fig.tight_layout()\n",
    "fig.savefig('cv-roc-grouping.png', dpi=320)"
   ]
  },
  {
   "cell_type": "code",
   "execution_count": null,
   "metadata": {
    "collapsed": true
   },
   "outputs": [],
   "source": []
  },
  {
   "cell_type": "code",
   "execution_count": null,
   "metadata": {
    "collapsed": true
   },
   "outputs": [],
   "source": []
  }
 ],
 "metadata": {
  "kernelspec": {
   "display_name": "Python 2",
   "language": "python",
   "name": "python2"
  }
 },
 "nbformat": 4,
 "nbformat_minor": 2
}
